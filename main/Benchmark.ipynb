{
 "cells": [
  {
   "cell_type": "markdown",
   "metadata": {},
   "source": [
    "# Benchmark"
   ]
  },
  {
   "cell_type": "code",
   "execution_count": 1,
   "metadata": {},
   "outputs": [],
   "source": [
    "using BenchmarkTools"
   ]
  },
  {
   "cell_type": "code",
   "execution_count": 2,
   "metadata": {},
   "outputs": [],
   "source": [
    "# Valori originali del test di Crabb\n",
    "const box_size = 1e3;\n",
    "const dim = 3;\n",
    "const dt = 0.01;\n",
    "const num_part_types = 2;\n",
    "const nsteps = 1000;\n",
    "const periodic = true;\n",
    "const sinterval = 10;"
   ]
  },
  {
   "cell_type": "markdown",
   "metadata": {},
   "source": [
    "### Serial version benchmark"
   ]
  },
  {
   "cell_type": "code",
   "execution_count": 3,
   "metadata": {
    "scrolled": true
   },
   "outputs": [
    {
     "data": {
      "text/plain": [
       "Main.Serialmd"
      ]
     },
     "execution_count": 3,
     "metadata": {},
     "output_type": "execute_result"
    }
   ],
   "source": [
    "include(\"src/serialmd.jl\")"
   ]
  },
  {
   "cell_type": "code",
   "execution_count": 4,
   "metadata": {},
   "outputs": [
    {
     "data": {
      "text/plain": [
       "benchmark_serial (generic function with 1 method)"
      ]
     },
     "execution_count": 4,
     "metadata": {},
     "output_type": "execute_result"
    }
   ],
   "source": [
    "function benchmark_serial(part_num)\n",
    "    # Genera stato iniziale del sistema sulla base dei valori originali\n",
    "    pos, vel, acc, masses, interactions, ptypes = Serialmd.random_data(dim, part_num, num_part_types, box_size)\n",
    "    # Benchmark\n",
    "    @benchmark Serialmd.dynamics_sim!($nsteps, $sinterval, false, $dt, $pos, $vel, $acc, $masses, $interactions, $ptypes, $box_size, $periodic, true)\n",
    "end"
   ]
  },
  {
   "cell_type": "code",
   "execution_count": 5,
   "metadata": {},
   "outputs": [],
   "source": [
    "## PRE-BENCHMARK ##"
   ]
  },
  {
   "cell_type": "code",
   "execution_count": 6,
   "metadata": {},
   "outputs": [
    {
     "name": "stdout",
     "output_type": "stream",
     "text": [
      "  0.254059 seconds (1.17 M allocations: 59.378 MiB, 5.38% gc time)\n"
     ]
    }
   ],
   "source": [
    "@time pos, vel, acc, masses, interactions, ptypes = Serialmd.random_data(3, 10, 2, 10);"
   ]
  },
  {
   "cell_type": "code",
   "execution_count": 7,
   "metadata": {},
   "outputs": [
    {
     "name": "stdout",
     "output_type": "stream",
     "text": [
      "  0.092067 seconds (219.25 k allocations: 11.444 MiB)\n"
     ]
    }
   ],
   "source": [
    "@time Serialmd.dynamics_sim!(3, 1, false, 0.01, pos, vel, acc, masses, interactions, ptypes, box_size, periodic, true);"
   ]
  },
  {
   "cell_type": "code",
   "execution_count": 8,
   "metadata": {
    "scrolled": true
   },
   "outputs": [
    {
     "data": {
      "text/plain": [
       "BenchmarkTools.Trial: \n",
       "  memory estimate:  212.34 KiB\n",
       "  allocs estimate:  1003\n",
       "  --------------\n",
       "  minimum time:     367.364 ms (0.00% GC)\n",
       "  median time:      371.590 ms (0.00% GC)\n",
       "  mean time:        371.890 ms (0.00% GC)\n",
       "  maximum time:     379.829 ms (0.00% GC)\n",
       "  --------------\n",
       "  samples:          14\n",
       "  evals/sample:     1"
      ]
     },
     "execution_count": 8,
     "metadata": {},
     "output_type": "execute_result"
    }
   ],
   "source": [
    "# Serial test, 100 particelle\n",
    "benchmark_serial(100)"
   ]
  },
  {
   "cell_type": "code",
   "execution_count": 9,
   "metadata": {},
   "outputs": [],
   "source": [
    "# Serial test, 500 particelle\n",
    "#benchmark(500)"
   ]
  },
  {
   "cell_type": "code",
   "execution_count": 10,
   "metadata": {},
   "outputs": [],
   "source": [
    "# Serial test, 1000 particelle\n",
    "#benchmark(1000)"
   ]
  },
  {
   "cell_type": "markdown",
   "metadata": {},
   "source": [
    "### CPU Multi Thread Version Benchmark"
   ]
  },
  {
   "cell_type": "code",
   "execution_count": 11,
   "metadata": {
    "scrolled": true
   },
   "outputs": [
    {
     "data": {
      "text/plain": [
       "Main.CPUMTmd"
      ]
     },
     "execution_count": 11,
     "metadata": {},
     "output_type": "execute_result"
    }
   ],
   "source": [
    "include(\"src/CPUMTmd.jl\")"
   ]
  },
  {
   "cell_type": "code",
   "execution_count": 12,
   "metadata": {},
   "outputs": [
    {
     "name": "stdout",
     "output_type": "stream",
     "text": [
      "Threads disponibili: 12\n"
     ]
    }
   ],
   "source": [
    "println(\"Threads disponibili: \", CPUMTmd.nthreads())"
   ]
  },
  {
   "cell_type": "code",
   "execution_count": 13,
   "metadata": {},
   "outputs": [
    {
     "data": {
      "text/plain": [
       "benchmark_CPUMT (generic function with 1 method)"
      ]
     },
     "execution_count": 13,
     "metadata": {},
     "output_type": "execute_result"
    }
   ],
   "source": [
    "function benchmark_CPUMT(part_num)\n",
    "    # Genera stato iniziale del sistema sulla base dei valori originali\n",
    "    pos, vel, acc, masses, interactions, ptypes = CPUMTmd.random_data(dim, part_num, num_part_types, box_size)\n",
    "    # Benchmark\n",
    "    @benchmark CPUMTmd.dynamics_sim!($nsteps, $sinterval, false, $dt, $pos, $vel, $acc, $masses, $interactions, $ptypes, $box_size, $periodic, true)\n",
    "end"
   ]
  },
  {
   "cell_type": "code",
   "execution_count": 14,
   "metadata": {},
   "outputs": [],
   "source": [
    "## PRE-BENCHMARK ##"
   ]
  },
  {
   "cell_type": "code",
   "execution_count": 15,
   "metadata": {},
   "outputs": [
    {
     "name": "stdout",
     "output_type": "stream",
     "text": [
      "  0.061209 seconds (248.59 k allocations: 12.324 MiB)\n"
     ]
    }
   ],
   "source": [
    "@time pos, vel, acc, masses, interactions, ptypes = CPUMTmd.random_data(3, 10, 2, 10);"
   ]
  },
  {
   "cell_type": "code",
   "execution_count": 16,
   "metadata": {},
   "outputs": [
    {
     "name": "stdout",
     "output_type": "stream",
     "text": [
      "  0.237768 seconds (1.16 M allocations: 59.013 MiB, 2.16% gc time)\n"
     ]
    }
   ],
   "source": [
    "@time CPUMTmd.dynamics_sim!(3, 1, false, 0.01, pos, vel, acc, masses, interactions, ptypes, box_size, periodic, true);"
   ]
  },
  {
   "cell_type": "code",
   "execution_count": 17,
   "metadata": {},
   "outputs": [
    {
     "data": {
      "text/plain": [
       "BenchmarkTools.Trial: \n",
       "  memory estimate:  3.61 GiB\n",
       "  allocs estimate:  240980949\n",
       "  --------------\n",
       "  minimum time:     3.541 s (30.15% GC)\n",
       "  median time:      3.566 s (29.82% GC)\n",
       "  mean time:        3.566 s (29.82% GC)\n",
       "  maximum time:     3.591 s (29.49% GC)\n",
       "  --------------\n",
       "  samples:          2\n",
       "  evals/sample:     1"
      ]
     },
     "execution_count": 17,
     "metadata": {},
     "output_type": "execute_result"
    }
   ],
   "source": [
    "# CPU-MT test 100 particelle\n",
    "benchmark_CPUMT(100)"
   ]
  },
  {
   "cell_type": "code",
   "execution_count": 18,
   "metadata": {},
   "outputs": [],
   "source": [
    "# CPU-MT test 500 particelle\n",
    "#benchmark_CPUMT(500)"
   ]
  },
  {
   "cell_type": "code",
   "execution_count": 19,
   "metadata": {},
   "outputs": [],
   "source": [
    "# CPU-MT test 1000 particelle\n",
    "#benchmark_CPUMT(1000)"
   ]
  },
  {
   "cell_type": "markdown",
   "metadata": {},
   "source": [
    "### CUDA Version Benchmark"
   ]
  },
  {
   "cell_type": "code",
   "execution_count": 20,
   "metadata": {},
   "outputs": [
    {
     "name": "stderr",
     "output_type": "stream",
     "text": [
      "┌ Warning: Your CUDA installation does not provide the NVTX library, CUDAnative.NVTX will be unavailable\n",
      "└ @ CUDAnative C:\\Users\\enric\\.julia\\packages\\CUDAnative\\hfulr\\src\\CUDAnative.jl:153\n"
     ]
    },
    {
     "data": {
      "text/plain": [
       "Main.CUDAmd"
      ]
     },
     "execution_count": 20,
     "metadata": {},
     "output_type": "execute_result"
    }
   ],
   "source": [
    "include(\"src/CUDAmd.jl\")"
   ]
  },
  {
   "cell_type": "code",
   "execution_count": 21,
   "metadata": {},
   "outputs": [
    {
     "data": {
      "text/plain": [
       "benchmark_CUDA (generic function with 1 method)"
      ]
     },
     "execution_count": 21,
     "metadata": {},
     "output_type": "execute_result"
    }
   ],
   "source": [
    "function benchmark_CUDA(part_num)\n",
    "    # Genera stato iniziale del sistema sulla base dei valori originali\n",
    "    pos, vel, acc, masses, interactions, ptypes = CUDAmd.random_data(dim, part_num, num_part_types, box_size)\n",
    "    # Benchmark\n",
    "    @benchmark CUDAmd.dynamics_sim!($nsteps, $sinterval, false, $dt, $pos, $vel, $acc, $masses, $interactions, $ptypes, $box_size, $periodic, true)\n",
    "end"
   ]
  },
  {
   "cell_type": "code",
   "execution_count": 22,
   "metadata": {},
   "outputs": [],
   "source": [
    "## PRE-BENCHMARK ##"
   ]
  },
  {
   "cell_type": "code",
   "execution_count": 23,
   "metadata": {},
   "outputs": [
    {
     "name": "stdout",
     "output_type": "stream",
     "text": [
      "  0.837299 seconds (1.87 M allocations: 93.244 MiB, 1.15% gc time)\n"
     ]
    }
   ],
   "source": [
    "@time pos, vel, acc, masses, interactions, ptypes = CUDAmd.random_data(3, 10, 2, 10);"
   ]
  },
  {
   "cell_type": "code",
   "execution_count": 24,
   "metadata": {},
   "outputs": [
    {
     "name": "stdout",
     "output_type": "stream",
     "text": [
      "  5.698255 seconds (14.39 M allocations: 719.400 MiB, 3.56% gc time)\n"
     ]
    }
   ],
   "source": [
    "@time CUDAmd.dynamics_sim!(3, 1, false, 0.01, pos, vel, acc, masses, interactions, ptypes, box_size, periodic, true);"
   ]
  },
  {
   "cell_type": "code",
   "execution_count": 25,
   "metadata": {},
   "outputs": [
    {
     "data": {
      "text/plain": [
       "BenchmarkTools.Trial: \n",
       "  memory estimate:  4.58 MiB\n",
       "  allocs estimate:  137027\n",
       "  --------------\n",
       "  minimum time:     132.411 ms (0.00% GC)\n",
       "  median time:      406.847 ms (0.00% GC)\n",
       "  mean time:        387.640 ms (0.06% GC)\n",
       "  maximum time:     419.547 ms (0.00% GC)\n",
       "  --------------\n",
       "  samples:          13\n",
       "  evals/sample:     1"
      ]
     },
     "execution_count": 25,
     "metadata": {},
     "output_type": "execute_result"
    }
   ],
   "source": [
    "# CUDA test 100 particelle\n",
    "benchmark_CUDA(100)"
   ]
  },
  {
   "cell_type": "code",
   "execution_count": 26,
   "metadata": {},
   "outputs": [],
   "source": [
    "# CUDA test 500 particelle\n",
    "#benchmark_CUDA(500)"
   ]
  },
  {
   "cell_type": "code",
   "execution_count": 27,
   "metadata": {},
   "outputs": [],
   "source": [
    "# CUDA test 1000 particelle\n",
    "#benchmark_CUDA(1000)"
   ]
  }
 ],
 "metadata": {
  "kernelspec": {
   "display_name": "Julia 1.3.1",
   "language": "julia",
   "name": "julia-1.3"
  },
  "language_info": {
   "file_extension": ".jl",
   "mimetype": "application/julia",
   "name": "julia",
   "version": "1.3.1"
  }
 },
 "nbformat": 4,
 "nbformat_minor": 2
}
