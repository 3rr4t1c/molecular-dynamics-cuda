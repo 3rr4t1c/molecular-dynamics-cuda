{
 "cells": [
  {
   "cell_type": "code",
   "execution_count": null,
   "metadata": {},
   "outputs": [],
   "source": [
    "#= Costanti (sola lettura)\n",
    "-- Numbers and boolean --\n",
    "number_of_steps = 1000; # Number of steps to execute in simulation, Intero positivo [1,+∞)\n",
    "dim = 3; # Dimensions of simulation, dimensioni dello spazio 2D o 3D, Intero positivo (tipicamente [2,3])\n",
    "box_size = 10.0; # Size of one side of box, lunghezza di un lato del campo di simulazione Float positivo [1.0, +∞)\n",
    "finite_box = true; # Whether box if finite or just where particles are initially placed, vero se il campo è finito<APPROFONDIRE\n",
    "periodic = true; # Whether simulation is periodic < true se la simulazione è periodica (pac-man)\n",
    "part_num = 100; # Number of particles in simulation, numero di particelle da simulare \n",
    "dt = 0.01; # Time step, controlla la precisione della simulazione\n",
    "num_part_types = 2; # Number of types of particles, numero di tipologie di particelle Intero positivo [1, +∞]\n",
    "save_interval = 10; # Ogni quanti passi viene salvata la posizione, (per la visualizzazione), Intero positivo [1, number_of_steps)\n",
    "\n",
    "-- Arrays --\n",
    "interaction_params = gen_interaction(num_part_types); # Interations parameters for types of particles, parametri di interazione, array?\n",
    "mass_parts = rand(Float64, num_part_types); # Masses of types of particles, massa per ogni tipo di particella, array\n",
    "part_types = rand(1:num_part_types, part_num) # Randomly assign type of each particle\n",
    "=#"
   ]
  },
  {
   "cell_type": "code",
   "execution_count": null,
   "metadata": {},
   "outputs": [],
   "source": [
    "#= Strutture dati (lettura, scrittura)\n",
    "\n",
    "# Matrici bi-dimensionali per tracciare lo stato del sistema ad ogni step\n",
    "pos = box_size*rand(Float64, part_num, dim) # Initialized to be randomly placed within a box\n",
    "vel = zeros(Float64, part_num, dim) # Initialized to zero\n",
    "acc = zeros(Float64, part_num, dim) # Initialized to zero\n",
    "force = find_force(....) # \n",
    "\n",
    "# Matrici tridimensionali per salvare lo stato del sistema ad ogni intervallo\n",
    "saved_positions = zeros(num_pos, part_num, dim) # Save positions with specified frequency, unico utile per la visualizzazione\n",
    "saved_velocities = zeros(num_pos, part_num, dim) # Save velocities with specified frequency\n",
    "saved_accelerations = zeros(num_pos, part_num, dim) # Save accelerations with specified frequency\n",
    "saved_forces = zeros(num_pos, part_num, dim) # Save forces with specified frequency\n",
    "=#"
   ]
  },
  {
   "cell_type": "code",
   "execution_count": null,
   "metadata": {},
   "outputs": [],
   "source": [
    "# The main routine function, take in some parameters, returns a 3d matrix of positions for each time interval\n",
    "function dynamics_simulation() # TODO: Parametri\n",
    "    # Inizializza strutture dati\n",
    "      # Costanti dipendenti dai parametri\n",
    "      # Variabili aggiornate ad ogni iterazione\n",
    "    # Loop per ciascuno step\n",
    "      # aggiornamento step\n",
    "      # ricalcola forze\n",
    "      # se devi salvare salva\n",
    "    # Restituisci le posizioni per intervallo di tempo\n",
    "end"
   ]
  }
 ],
 "metadata": {
  "kernelspec": {
   "display_name": "Julia 1.3.1",
   "language": "julia",
   "name": "julia-1.3"
  },
  "language_info": {
   "file_extension": ".jl",
   "mimetype": "application/julia",
   "name": "julia",
   "version": "1.3.1"
  }
 },
 "nbformat": 4,
 "nbformat_minor": 2
}
