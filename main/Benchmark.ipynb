{
 "cells": [
  {
   "cell_type": "markdown",
   "metadata": {},
   "source": [
    "# Benchmark"
   ]
  },
  {
   "cell_type": "code",
   "execution_count": 1,
   "metadata": {},
   "outputs": [],
   "source": [
    "using BenchmarkTools"
   ]
  },
  {
   "cell_type": "code",
   "execution_count": 2,
   "metadata": {},
   "outputs": [],
   "source": [
    "# Valori originali del test di Crabb\n",
    "const box_size = 1f3;\n",
    "const dim = 3;\n",
    "const dt = 0.01f0;\n",
    "const num_part_types = 2;\n",
    "const nsteps = 1000;\n",
    "const periodic = true;\n",
    "const sinterval = 10;"
   ]
  },
  {
   "cell_type": "markdown",
   "metadata": {},
   "source": [
    "### Serial version benchmark"
   ]
  },
  {
   "cell_type": "code",
   "execution_count": 3,
   "metadata": {
    "scrolled": true
   },
   "outputs": [
    {
     "data": {
      "text/plain": [
       "Main.Serialmd"
      ]
     },
     "execution_count": 3,
     "metadata": {},
     "output_type": "execute_result"
    }
   ],
   "source": [
    "include(\"src/serialmd.jl\")"
   ]
  },
  {
   "cell_type": "code",
   "execution_count": 4,
   "metadata": {},
   "outputs": [
    {
     "data": {
      "text/plain": [
       "benchmark_serial (generic function with 1 method)"
      ]
     },
     "execution_count": 4,
     "metadata": {},
     "output_type": "execute_result"
    }
   ],
   "source": [
    "function benchmark_serial(part_num)\n",
    "    # Genera stato iniziale del sistema sulla base dei valori originali\n",
    "    pos, vel, acc, masses, interactions, ptypes = Serialmd.random_data(dim, part_num, num_part_types, box_size)\n",
    "    # Benchmark\n",
    "    @benchmark Serialmd.dynamics_sim!($nsteps, $sinterval, $false, $dt, $pos, $vel, $acc, $masses, \n",
    "                                      $interactions, $ptypes, $box_size, $periodic, $true)\n",
    "end"
   ]
  },
  {
   "cell_type": "code",
   "execution_count": 5,
   "metadata": {},
   "outputs": [],
   "source": [
    "## PRE-BENCHMARK ## (Compilazione JIT e Caching)"
   ]
  },
  {
   "cell_type": "code",
   "execution_count": 6,
   "metadata": {},
   "outputs": [
    {
     "name": "stdout",
     "output_type": "stream",
     "text": [
      "  0.494463 seconds (1.18 M allocations: 60.165 MiB, 5.00% gc time)\n"
     ]
    }
   ],
   "source": [
    "@time pos, vel, acc, masses, interactions, ptypes = Serialmd.random_data(3, 10, 2, 10);"
   ]
  },
  {
   "cell_type": "code",
   "execution_count": 7,
   "metadata": {},
   "outputs": [
    {
     "name": "stdout",
     "output_type": "stream",
     "text": [
      "  0.379950 seconds (945.20 k allocations: 46.223 MiB, 3.00% gc time)\n"
     ]
    }
   ],
   "source": [
    "@time Serialmd.dynamics_sim!(3, 1, false, dt, pos, vel, acc, masses, interactions, ptypes, box_size, periodic, true);"
   ]
  },
  {
   "cell_type": "code",
   "execution_count": 8,
   "metadata": {
    "scrolled": true
   },
   "outputs": [
    {
     "data": {
      "text/plain": [
       "BenchmarkTools.Trial: \n",
       "  memory estimate:  118.59 KiB\n",
       "  allocs estimate:  3\n",
       "  --------------\n",
       "  minimum time:     345.266 ms (0.00% GC)\n",
       "  median time:      347.047 ms (0.00% GC)\n",
       "  mean time:        347.277 ms (0.00% GC)\n",
       "  maximum time:     351.135 ms (0.00% GC)\n",
       "  --------------\n",
       "  samples:          15\n",
       "  evals/sample:     1"
      ]
     },
     "execution_count": 8,
     "metadata": {},
     "output_type": "execute_result"
    }
   ],
   "source": [
    "# Serial test, 100 particelle\n",
    "benchmark_serial(100)"
   ]
  },
  {
   "cell_type": "code",
   "execution_count": 9,
   "metadata": {},
   "outputs": [
    {
     "data": {
      "text/plain": [
       "BenchmarkTools.Trial: \n",
       "  memory estimate:  592.02 KiB\n",
       "  allocs estimate:  3\n",
       "  --------------\n",
       "  minimum time:     8.645 s (0.00% GC)\n",
       "  median time:      8.645 s (0.00% GC)\n",
       "  mean time:        8.645 s (0.00% GC)\n",
       "  maximum time:     8.645 s (0.00% GC)\n",
       "  --------------\n",
       "  samples:          1\n",
       "  evals/sample:     1"
      ]
     },
     "execution_count": 9,
     "metadata": {},
     "output_type": "execute_result"
    }
   ],
   "source": [
    "# Serial test, 500 particelle\n",
    "benchmark_serial(500)"
   ]
  },
  {
   "cell_type": "code",
   "execution_count": 10,
   "metadata": {},
   "outputs": [
    {
     "data": {
      "text/plain": [
       "BenchmarkTools.Trial: \n",
       "  memory estimate:  1.16 MiB\n",
       "  allocs estimate:  3\n",
       "  --------------\n",
       "  minimum time:     34.558 s (0.00% GC)\n",
       "  median time:      34.558 s (0.00% GC)\n",
       "  mean time:        34.558 s (0.00% GC)\n",
       "  maximum time:     34.558 s (0.00% GC)\n",
       "  --------------\n",
       "  samples:          1\n",
       "  evals/sample:     1"
      ]
     },
     "execution_count": 10,
     "metadata": {},
     "output_type": "execute_result"
    }
   ],
   "source": [
    "# Serial test, 1000 particelle\n",
    "benchmark_serial(1000)"
   ]
  },
  {
   "cell_type": "markdown",
   "metadata": {},
   "source": [
    "### CPU Multi Thread Version Benchmark"
   ]
  },
  {
   "cell_type": "code",
   "execution_count": 11,
   "metadata": {
    "scrolled": true
   },
   "outputs": [
    {
     "data": {
      "text/plain": [
       "Main.CPUMTmd"
      ]
     },
     "execution_count": 11,
     "metadata": {},
     "output_type": "execute_result"
    }
   ],
   "source": [
    "include(\"src/CPUMTmd.jl\")"
   ]
  },
  {
   "cell_type": "code",
   "execution_count": 12,
   "metadata": {},
   "outputs": [
    {
     "name": "stdout",
     "output_type": "stream",
     "text": [
      "Threads disponibili: 8\n"
     ]
    }
   ],
   "source": [
    "println(\"Threads disponibili: \", CPUMTmd.nthreads())"
   ]
  },
  {
   "cell_type": "code",
   "execution_count": 13,
   "metadata": {},
   "outputs": [
    {
     "data": {
      "text/plain": [
       "benchmark_CPUMT (generic function with 1 method)"
      ]
     },
     "execution_count": 13,
     "metadata": {},
     "output_type": "execute_result"
    }
   ],
   "source": [
    "function benchmark_CPUMT(part_num)\n",
    "    # Genera stato iniziale del sistema sulla base dei valori originali\n",
    "    pos, vel, acc, masses, interactions, ptypes = CPUMTmd.random_data(dim, part_num, num_part_types, box_size)\n",
    "    # Benchmark\n",
    "    @benchmark begin\n",
    "        @sync begin\n",
    "            CPUMTmd.dynamics_sim!($nsteps, $sinterval, $false, $dt, $pos, $vel, $acc, $masses, \n",
    "                                  $interactions, $ptypes, $box_size, $periodic, $true)\n",
    "        end\n",
    "    end\n",
    "end"
   ]
  },
  {
   "cell_type": "code",
   "execution_count": 14,
   "metadata": {},
   "outputs": [],
   "source": [
    "## PRE-BENCHMARK ## (Compilazione JIT e Caching)"
   ]
  },
  {
   "cell_type": "code",
   "execution_count": 15,
   "metadata": {},
   "outputs": [
    {
     "name": "stdout",
     "output_type": "stream",
     "text": [
      "  0.119795 seconds (245.78 k allocations: 12.206 MiB)\n"
     ]
    }
   ],
   "source": [
    "@time pos, vel, acc, masses, interactions, ptypes = CPUMTmd.random_data(3, 10, 2, 10);"
   ]
  },
  {
   "cell_type": "code",
   "execution_count": 16,
   "metadata": {},
   "outputs": [
    {
     "name": "stdout",
     "output_type": "stream",
     "text": [
      "  0.390995 seconds (738.01 k allocations: 36.333 MiB, 2.23% gc time)\n"
     ]
    }
   ],
   "source": [
    "@time CPUMTmd.dynamics_sim!(3, 1, false, dt, pos, vel, acc, masses, interactions, ptypes, box_size, periodic, true);"
   ]
  },
  {
   "cell_type": "code",
   "execution_count": 17,
   "metadata": {},
   "outputs": [
    {
     "data": {
      "text/plain": [
       "BenchmarkTools.Trial: \n",
       "  memory estimate:  45.59 MiB\n",
       "  allocs estimate:  2320490\n",
       "  --------------\n",
       "  minimum time:     255.041 ms (0.00% GC)\n",
       "  median time:      296.451 ms (0.00% GC)\n",
       "  mean time:        300.756 ms (3.49% GC)\n",
       "  maximum time:     367.790 ms (8.12% GC)\n",
       "  --------------\n",
       "  samples:          17\n",
       "  evals/sample:     1"
      ]
     },
     "execution_count": 17,
     "metadata": {},
     "output_type": "execute_result"
    }
   ],
   "source": [
    "# CPU-MT test 100 particelle\n",
    "benchmark_CPUMT(100)"
   ]
  },
  {
   "cell_type": "code",
   "execution_count": 18,
   "metadata": {},
   "outputs": [
    {
     "data": {
      "text/plain": [
       "BenchmarkTools.Trial: \n",
       "  memory estimate:  180.30 MiB\n",
       "  allocs estimate:  11118414\n",
       "  --------------\n",
       "  minimum time:     2.280 s (0.00% GC)\n",
       "  median time:      2.348 s (2.83% GC)\n",
       "  mean time:        2.327 s (1.92% GC)\n",
       "  maximum time:     2.352 s (2.83% GC)\n",
       "  --------------\n",
       "  samples:          3\n",
       "  evals/sample:     1"
      ]
     },
     "execution_count": 18,
     "metadata": {},
     "output_type": "execute_result"
    }
   ],
   "source": [
    "# CPU-MT test 500 particelle\n",
    "benchmark_CPUMT(500)"
   ]
  },
  {
   "cell_type": "code",
   "execution_count": 19,
   "metadata": {},
   "outputs": [
    {
     "data": {
      "text/plain": [
       "BenchmarkTools.Trial: \n",
       "  memory estimate:  348.82 MiB\n",
       "  allocs estimate:  22124237\n",
       "  --------------\n",
       "  minimum time:     8.934 s (0.90% GC)\n",
       "  median time:      8.934 s (0.90% GC)\n",
       "  mean time:        8.934 s (0.90% GC)\n",
       "  maximum time:     8.934 s (0.90% GC)\n",
       "  --------------\n",
       "  samples:          1\n",
       "  evals/sample:     1"
      ]
     },
     "execution_count": 19,
     "metadata": {},
     "output_type": "execute_result"
    }
   ],
   "source": [
    "# CPU-MT test 1000 particelle\n",
    "benchmark_CPUMT(1000)"
   ]
  },
  {
   "cell_type": "markdown",
   "metadata": {},
   "source": [
    "### CUDA Version Benchmark"
   ]
  },
  {
   "cell_type": "code",
   "execution_count": 20,
   "metadata": {},
   "outputs": [
    {
     "data": {
      "text/plain": [
       "Main.CUDAmd"
      ]
     },
     "execution_count": 20,
     "metadata": {},
     "output_type": "execute_result"
    }
   ],
   "source": [
    "include(\"src/CUDAmd.jl\")"
   ]
  },
  {
   "cell_type": "code",
   "execution_count": 21,
   "metadata": {},
   "outputs": [
    {
     "data": {
      "text/plain": [
       "256"
      ]
     },
     "execution_count": 21,
     "metadata": {},
     "output_type": "execute_result"
    }
   ],
   "source": [
    "# Threads per blocco\n",
    "const TPB = 256"
   ]
  },
  {
   "cell_type": "code",
   "execution_count": 22,
   "metadata": {},
   "outputs": [
    {
     "data": {
      "text/plain": [
       "benchmark_CUDA (generic function with 1 method)"
      ]
     },
     "execution_count": 22,
     "metadata": {},
     "output_type": "execute_result"
    }
   ],
   "source": [
    "function benchmark_CUDA(cuThreads, part_num)\n",
    "    # Genera stato iniziale del sistema sulla base dei valori originali\n",
    "    pos, vel, acc, masses, interactions, ptypes = CUDAmd.random_data(dim, part_num, num_part_types, box_size)\n",
    "    # Benchmark\n",
    "    @benchmark begin\n",
    "        CUDAmd.CuArrays.@sync begin\n",
    "            CUDAmd.dynamics_sim!($TPB, $nsteps, $sinterval, $false, $dt, $pos, $vel, $acc, $masses, \n",
    "                                 $interactions, $ptypes, $box_size, $periodic, $true)\n",
    "        end\n",
    "    end\n",
    "end"
   ]
  },
  {
   "cell_type": "code",
   "execution_count": 23,
   "metadata": {},
   "outputs": [],
   "source": [
    "## PRE-BENCHMARK ## (Compilazione JIT e Caching)"
   ]
  },
  {
   "cell_type": "code",
   "execution_count": 24,
   "metadata": {},
   "outputs": [
    {
     "name": "stdout",
     "output_type": "stream",
     "text": [
      "  1.373348 seconds (1.74 M allocations: 87.043 MiB, 2.23% gc time)\n"
     ]
    }
   ],
   "source": [
    "@time pos, vel, acc, masses, interactions, ptypes = CUDAmd.random_data(3, 10, 2, 10);"
   ]
  },
  {
   "cell_type": "code",
   "execution_count": 25,
   "metadata": {},
   "outputs": [
    {
     "name": "stdout",
     "output_type": "stream",
     "text": [
      " 10.797023 seconds (14.29 M allocations: 714.107 MiB, 3.33% gc time)\n"
     ]
    }
   ],
   "source": [
    "@time CUDAmd.dynamics_sim!(TPB, 3, 1, false, dt, pos, vel, acc, masses, interactions, ptypes, box_size, periodic, true);"
   ]
  },
  {
   "cell_type": "code",
   "execution_count": 26,
   "metadata": {},
   "outputs": [
    {
     "data": {
      "text/plain": [
       "BenchmarkTools.Trial: \n",
       "  memory estimate:  4.49 MiB\n",
       "  allocs estimate:  135026\n",
       "  --------------\n",
       "  minimum time:     648.014 ms (0.00% GC)\n",
       "  median time:      648.051 ms (0.00% GC)\n",
       "  mean time:        648.569 ms (0.00% GC)\n",
       "  maximum time:     652.127 ms (0.00% GC)\n",
       "  --------------\n",
       "  samples:          8\n",
       "  evals/sample:     1"
      ]
     },
     "execution_count": 26,
     "metadata": {},
     "output_type": "execute_result"
    }
   ],
   "source": [
    "# CUDA test 100 particelle\n",
    "benchmark_CUDA(256, 100)"
   ]
  },
  {
   "cell_type": "code",
   "execution_count": 27,
   "metadata": {},
   "outputs": [
    {
     "data": {
      "text/plain": [
       "BenchmarkTools.Trial: \n",
       "  memory estimate:  4.50 MiB\n",
       "  allocs estimate:  136026\n",
       "  --------------\n",
       "  minimum time:     3.363 s (0.00% GC)\n",
       "  median time:      3.363 s (0.00% GC)\n",
       "  mean time:        3.363 s (0.00% GC)\n",
       "  maximum time:     3.364 s (0.00% GC)\n",
       "  --------------\n",
       "  samples:          2\n",
       "  evals/sample:     1"
      ]
     },
     "execution_count": 27,
     "metadata": {},
     "output_type": "execute_result"
    }
   ],
   "source": [
    "# CUDA test 500 particelle\n",
    "benchmark_CUDA(256, 500)"
   ]
  },
  {
   "cell_type": "code",
   "execution_count": 28,
   "metadata": {},
   "outputs": [
    {
     "data": {
      "text/plain": [
       "BenchmarkTools.Trial: \n",
       "  memory estimate:  4.56 MiB\n",
       "  allocs estimate:  140026\n",
       "  --------------\n",
       "  minimum time:     6.703 s (0.00% GC)\n",
       "  median time:      6.703 s (0.00% GC)\n",
       "  mean time:        6.703 s (0.00% GC)\n",
       "  maximum time:     6.703 s (0.00% GC)\n",
       "  --------------\n",
       "  samples:          1\n",
       "  evals/sample:     1"
      ]
     },
     "execution_count": 28,
     "metadata": {},
     "output_type": "execute_result"
    }
   ],
   "source": [
    "# CUDA test 1000 particelle\n",
    "benchmark_CUDA(256, 1000)"
   ]
  },
  {
   "cell_type": "code",
   "execution_count": null,
   "metadata": {},
   "outputs": [],
   "source": []
  }
 ],
 "metadata": {
  "kernelspec": {
   "display_name": "Julia 1.3.1",
   "language": "julia",
   "name": "julia-1.3"
  },
  "language_info": {
   "file_extension": ".jl",
   "mimetype": "application/julia",
   "name": "julia",
   "version": "1.3.1"
  }
 },
 "nbformat": 4,
 "nbformat_minor": 2
}
