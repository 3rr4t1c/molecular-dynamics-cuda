{
 "cells": [
  {
   "cell_type": "markdown",
   "metadata": {},
   "source": [
    "# Demo versione Multi Thread "
   ]
  },
  {
   "cell_type": "code",
   "execution_count": null,
   "metadata": {},
   "outputs": [],
   "source": [
    "# Carica il codice per la simulazione\n",
    "include(\"src/CPUMTmd.jl\")"
   ]
  },
  {
   "cell_type": "code",
   "execution_count": null,
   "metadata": {},
   "outputs": [],
   "source": [
    "# Carica il codice per salvataggi su disco, generare dati, creare animazioni\n",
    "include(\"src/utilmd.jl\")"
   ]
  },
  {
   "cell_type": "code",
   "execution_count": null,
   "metadata": {},
   "outputs": [],
   "source": [
    "println(\"Threads disponibili: \", CPUMTmd.nthreads())"
   ]
  },
  {
   "cell_type": "code",
   "execution_count": null,
   "metadata": {},
   "outputs": [],
   "source": [
    "# Esegue una simulazione con dati casuali e salva su disco i dati per ripresa.\n",
    "function random_sim(nsteps, sinterval, dt, dim, part_num, num_part_types, box_size, periodic, restrict)\n",
    "    # Genera dati casuali\n",
    "    pos, acc, vel, masses, interactions, ptypes = CPUMTmd.random_data(dim, part_num, num_part_types, box_size)\n",
    "    \n",
    "    # Simulazione\n",
    "    spos = CPUMTmd.dynamics_sim!(nsteps, sinterval, true, dt, pos, vel, acc, masses, interactions, ptypes, box_size, periodic, restrict)\n",
    "    \n",
    "    # Per il salvataggio su disco salvare anche le altre matrici modificate\n",
    "    file_name = \"random_$(dim)D_$(part_num)p\"\n",
    "    Utilmd.disk_save(file_name * \"_data\", spos[end,:,:], vel, acc, masses, interactions, ptypes, box_size, periodic, restrict)\n",
    "    \n",
    "    return spos, ptypes, masses, interactions, file_name    \n",
    "end"
   ]
  },
  {
   "cell_type": "markdown",
   "metadata": {},
   "source": [
    "### Simulazione 3D"
   ]
  },
  {
   "cell_type": "code",
   "execution_count": null,
   "metadata": {},
   "outputs": [],
   "source": [
    "# Parametri animazione\n",
    "const duration3D = 30; # durata in secondi\n",
    "const lims3D = (0, 10); # Limiti della visuale\n",
    "const ticks3D = 0:1:10; # Tacche su ogni asse"
   ]
  },
  {
   "cell_type": "code",
   "execution_count": null,
   "metadata": {},
   "outputs": [],
   "source": [
    "# Simulazione 3D\n",
    "spos3D, ptypes3D, masses3D, interactions3D, file_name3D = random_sim(30*duration3D, 1, 1/25f0, 3, 100, 3, 10.0f0, false, true);"
   ]
  },
  {
   "cell_type": "code",
   "execution_count": null,
   "metadata": {},
   "outputs": [],
   "source": [
    "# Verifica consistenza\n",
    "println(\"Any NaN?: \", any(isnan, spos3D))\n",
    "println(\"Any Inf?: \", any(isinf, spos3D))"
   ]
  },
  {
   "cell_type": "code",
   "execution_count": null,
   "metadata": {},
   "outputs": [],
   "source": [
    "# Genera animazione e salva gif su disco\n",
    "Utilmd.gif_animate3D(spos3D, ptypes3D, lims3D, ticks3D, file_name3D)"
   ]
  },
  {
   "cell_type": "code",
   "execution_count": null,
   "metadata": {},
   "outputs": [],
   "source": [
    "# Visualizza masse\n",
    "masses3D"
   ]
  },
  {
   "cell_type": "code",
   "execution_count": null,
   "metadata": {},
   "outputs": [],
   "source": [
    "# Visualizza interazioni\n",
    "interactions3D"
   ]
  },
  {
   "cell_type": "code",
   "execution_count": null,
   "metadata": {},
   "outputs": [],
   "source": [
    "# RESUME TEST #\n",
    "# Continua simulazione da dati salvati\n",
    "ld = Utilmd.disk_load(file_name3D * \"_data\") \n",
    "spos3DResumed = CPUMTmd.dynamics_sim!(30*duration3D, 1, 1/30, ld.pos, ld.vel, ld.acc, ld.masses, ld.interactions, ld.ptypes, ld.box_size, ld.periodic, ld.restrict);"
   ]
  },
  {
   "cell_type": "code",
   "execution_count": null,
   "metadata": {},
   "outputs": [],
   "source": [
    "# Genera animazione e salva gif su disco\n",
    "Utilmd.gif_animate3D(spos3DResumed, ld.ptypes, lims3D, ticks3D, file_name3D * \"_resumed\")"
   ]
  },
  {
   "cell_type": "markdown",
   "metadata": {},
   "source": [
    "### Simulazione 2D"
   ]
  },
  {
   "cell_type": "code",
   "execution_count": null,
   "metadata": {},
   "outputs": [],
   "source": [
    "# Parametri animazione\n",
    "const duration2D = 30; # durata in secondi\n",
    "const lims2D = (-10, 20); # Limiti della visuale\n",
    "const ticks2D = -10:5:20; # Tacche su ogni asse"
   ]
  },
  {
   "cell_type": "code",
   "execution_count": null,
   "metadata": {},
   "outputs": [],
   "source": [
    "# Simulazione 2D\n",
    "spos2D, ptypes2D, masses2D, interactions2D, file_name2D = random_sim(30*duration2D, 1, 1/30, 2, 300, 2, 10.0, true, false);"
   ]
  },
  {
   "cell_type": "code",
   "execution_count": null,
   "metadata": {},
   "outputs": [],
   "source": [
    "# Controllo consistenza\n",
    "println(\"Any NaN?: \", any(isnan, spos2D))\n",
    "println(\"Any Inf?: \", any(isinf, spos2D))"
   ]
  },
  {
   "cell_type": "code",
   "execution_count": null,
   "metadata": {},
   "outputs": [],
   "source": [
    "# Genera animazione e salva gif su disco\n",
    "Utilmd.gif_animate2D(spos2D, ptypes2D, lims2D, ticks2D, file_name2D)"
   ]
  },
  {
   "cell_type": "code",
   "execution_count": null,
   "metadata": {},
   "outputs": [],
   "source": [
    "# Visualizza masse\n",
    "masses2D"
   ]
  },
  {
   "cell_type": "code",
   "execution_count": null,
   "metadata": {},
   "outputs": [],
   "source": [
    "# Visualizza interazioni\n",
    "interactions2D"
   ]
  }
 ],
 "metadata": {
  "kernelspec": {
   "display_name": "Julia 1.3.1",
   "language": "julia",
   "name": "julia-1.3"
  },
  "language_info": {
   "file_extension": ".jl",
   "mimetype": "application/julia",
   "name": "julia",
   "version": "1.3.1"
  }
 },
 "nbformat": 4,
 "nbformat_minor": 2
}
