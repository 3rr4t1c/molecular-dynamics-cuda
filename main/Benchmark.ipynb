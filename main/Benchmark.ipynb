{
 "cells": [
  {
   "cell_type": "markdown",
   "metadata": {},
   "source": [
    "# Benchmark"
   ]
  },
  {
   "cell_type": "code",
   "execution_count": null,
   "metadata": {},
   "outputs": [],
   "source": [
    "using BenchmarkTools"
   ]
  },
  {
   "cell_type": "code",
   "execution_count": null,
   "metadata": {},
   "outputs": [],
   "source": [
    "include(\"src/serialmd.jl\")"
   ]
  },
  {
   "cell_type": "code",
   "execution_count": null,
   "metadata": {},
   "outputs": [],
   "source": [
    "include(\"src/utilmd.jl\")"
   ]
  },
  {
   "cell_type": "code",
   "execution_count": null,
   "metadata": {},
   "outputs": [],
   "source": [
    "# Valori originali del test di Crabb\n",
    "const box_size = 1e3;\n",
    "const dim = 3;\n",
    "const dt = 0.01;\n",
    "const num_part_types = 2;\n",
    "const nsteps = 1000;\n",
    "const periodic = true;\n",
    "const sinterval = 10;"
   ]
  },
  {
   "cell_type": "markdown",
   "metadata": {},
   "source": [
    "### Serial version benchmark"
   ]
  },
  {
   "cell_type": "code",
   "execution_count": null,
   "metadata": {},
   "outputs": [],
   "source": [
    "function benchmark_serial(part_num)\n",
    "    # Genera stato iniziale del sistema sulla base dei valori originali\n",
    "    pos, vel, acc, masses, interactions, ptypes = Utilmd.random_data(dim, part_num, num_part_types, box_size)\n",
    "    # Benchmark\n",
    "    @benchmark Serialmd.dynamics_sim!($nsteps, $sinterval, false, $dt, $pos, $vel, $acc, $masses, $interactions, $ptypes, $box_size, $periodic, true)\n",
    "end"
   ]
  },
  {
   "cell_type": "code",
   "execution_count": null,
   "metadata": {
    "scrolled": true
   },
   "outputs": [],
   "source": [
    "# Serial test, 100 particelle\n",
    "benchmark_serial(100)"
   ]
  },
  {
   "cell_type": "code",
   "execution_count": null,
   "metadata": {},
   "outputs": [],
   "source": [
    "# Serial test, 100 particelle\n",
    "benchmark(Serialmd.dynamics_sim!, 500)"
   ]
  },
  {
   "cell_type": "code",
   "execution_count": null,
   "metadata": {},
   "outputs": [],
   "source": [
    "# Serial test, 100 particelle\n",
    "benchmark(Serialmd.dynamics_sim!, 1000)"
   ]
  },
  {
   "cell_type": "markdown",
   "metadata": {},
   "source": [
    "### CPU Multi Thread Version Benchmark"
   ]
  },
  {
   "cell_type": "code",
   "execution_count": null,
   "metadata": {},
   "outputs": [],
   "source": [
    "# TODO Con/Senza Hyperthreading\n",
    "\n",
    "function benchmark_CPUMT(part_num)\n",
    "    # Genera stato iniziale del sistema sulla base dei valori originali\n",
    "    pos, vel, acc, masses, interactions, ptypes = Utilmd.random_data(dim, part_num, num_part_types, box_size)\n",
    "    # Benchmark\n",
    "    @benchmark CPUMTmd.dynamics_sim!($nsteps, $sinterval, false, $dt, $pos, $vel, $acc, $masses, $interactions, $ptypes, $box_size, $periodic, true)\n",
    "end"
   ]
  },
  {
   "cell_type": "code",
   "execution_count": null,
   "metadata": {},
   "outputs": [],
   "source": [
    "# CPU-MT test 100 particelle\n",
    "benchmark_CPUMT(100)"
   ]
  },
  {
   "cell_type": "code",
   "execution_count": null,
   "metadata": {},
   "outputs": [],
   "source": [
    "# CPU-MT test 500 particelle\n",
    "benchmark_CPUMT(500)"
   ]
  },
  {
   "cell_type": "code",
   "execution_count": null,
   "metadata": {},
   "outputs": [],
   "source": [
    "# CPU-MT test 1000 particelle\n",
    "benchmark_CPUMT(1000)"
   ]
  },
  {
   "cell_type": "markdown",
   "metadata": {},
   "source": [
    "### CUDA Version Benchmark"
   ]
  },
  {
   "cell_type": "code",
   "execution_count": null,
   "metadata": {},
   "outputs": [],
   "source": [
    "function benchmark_CUDA(part_num)\n",
    "    # Genera stato iniziale del sistema sulla base dei valori originali\n",
    "    pos, vel, acc, masses, interactions, ptypes = Utilmd.random_data(dim, part_num, num_part_types, box_size)\n",
    "    # Benchmark\n",
    "    @benchmark CUDAmd.dynamics_sim!($nsteps, $sinterval, false, $dt, $pos, $vel, $acc, $masses, $interactions, $ptypes, $box_size, $periodic, true)\n",
    "end"
   ]
  },
  {
   "cell_type": "code",
   "execution_count": null,
   "metadata": {},
   "outputs": [],
   "source": [
    "# CUDA test 100 particelle\n",
    "benchmark_CUDA(100)"
   ]
  },
  {
   "cell_type": "code",
   "execution_count": null,
   "metadata": {},
   "outputs": [],
   "source": [
    "# CUDA test 500 particelle\n",
    "benchmark_CUDA(500)"
   ]
  },
  {
   "cell_type": "code",
   "execution_count": null,
   "metadata": {},
   "outputs": [],
   "source": [
    "# CUDA test 1000 particelle\n",
    "benchmark_CUDA(1000)"
   ]
  },
  {
   "cell_type": "code",
   "execution_count": null,
   "metadata": {},
   "outputs": [],
   "source": []
  }
 ],
 "metadata": {
  "kernelspec": {
   "display_name": "Julia 1.3.1",
   "language": "julia",
   "name": "julia-1.3"
  },
  "language_info": {
   "file_extension": ".jl",
   "mimetype": "application/julia",
   "name": "julia",
   "version": "1.3.1"
  }
 },
 "nbformat": 4,
 "nbformat_minor": 2
}
