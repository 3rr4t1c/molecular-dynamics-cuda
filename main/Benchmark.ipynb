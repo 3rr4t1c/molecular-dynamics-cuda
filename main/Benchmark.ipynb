{
 "cells": [
  {
   "cell_type": "markdown",
   "metadata": {},
   "source": [
    "# Benchmark"
   ]
  },
  {
   "cell_type": "code",
   "execution_count": 1,
   "metadata": {},
   "outputs": [],
   "source": [
    "using BenchmarkTools"
   ]
  },
  {
   "cell_type": "code",
   "execution_count": 2,
   "metadata": {},
   "outputs": [],
   "source": [
    "# Valori originali del test di Crabb\n",
    "const box_size = 1f3;\n",
    "const dim = 3;\n",
    "const dt = 0.01f0;\n",
    "const num_part_types = 2;\n",
    "const nsteps = 1000;\n",
    "const periodic = true;\n",
    "const sinterval = 10;"
   ]
  },
  {
   "cell_type": "markdown",
   "metadata": {},
   "source": [
    "### Serial version benchmark"
   ]
  },
  {
   "cell_type": "code",
   "execution_count": 3,
   "metadata": {
    "scrolled": true
   },
   "outputs": [
    {
     "data": {
      "text/plain": [
       "Main.Serialmd"
      ]
     },
     "execution_count": 3,
     "metadata": {},
     "output_type": "execute_result"
    }
   ],
   "source": [
    "include(\"src/serialmd.jl\")"
   ]
  },
  {
   "cell_type": "code",
   "execution_count": 4,
   "metadata": {},
   "outputs": [
    {
     "data": {
      "text/plain": [
       "benchmark_serial (generic function with 1 method)"
      ]
     },
     "execution_count": 4,
     "metadata": {},
     "output_type": "execute_result"
    }
   ],
   "source": [
    "function benchmark_serial(part_num)\n",
    "    # Genera stato iniziale del sistema sulla base dei valori originali\n",
    "    pos, vel, acc, masses, interactions, ptypes = Serialmd.random_data(dim, part_num, num_part_types, box_size)\n",
    "    # Benchmark\n",
    "    @benchmark Serialmd.dynamics_sim!($nsteps, $sinterval, $false, $dt, $pos, $vel, $acc, $masses, \n",
    "                                      $interactions, $ptypes, $box_size, $periodic, $true)\n",
    "end"
   ]
  },
  {
   "cell_type": "code",
   "execution_count": 5,
   "metadata": {},
   "outputs": [],
   "source": [
    "## PRE-BENCHMARK ## (Compilazione JIT e Caching)"
   ]
  },
  {
   "cell_type": "code",
   "execution_count": 6,
   "metadata": {},
   "outputs": [
    {
     "name": "stdout",
     "output_type": "stream",
     "text": [
      "  0.487893 seconds (1.18 M allocations: 60.191 MiB, 4.91% gc time)\n"
     ]
    }
   ],
   "source": [
    "@time pos, vel, acc, masses, interactions, ptypes = Serialmd.random_data(3, 10, 2, 10);"
   ]
  },
  {
   "cell_type": "code",
   "execution_count": 7,
   "metadata": {},
   "outputs": [
    {
     "name": "stdout",
     "output_type": "stream",
     "text": [
      "  0.424754 seconds (945.18 k allocations: 46.241 MiB, 2.93% gc time)\n"
     ]
    }
   ],
   "source": [
    "@time Serialmd.dynamics_sim!(3, 1, false, dt, pos, vel, acc, masses, interactions, ptypes, box_size, periodic, true);"
   ]
  },
  {
   "cell_type": "code",
   "execution_count": 8,
   "metadata": {
    "scrolled": true
   },
   "outputs": [
    {
     "data": {
      "text/plain": [
       "BenchmarkTools.Trial: \n",
       "  memory estimate:  118.59 KiB\n",
       "  allocs estimate:  3\n",
       "  --------------\n",
       "  minimum time:     345.141 ms (0.00% GC)\n",
       "  median time:      346.171 ms (0.00% GC)\n",
       "  mean time:        346.541 ms (0.00% GC)\n",
       "  maximum time:     349.829 ms (0.00% GC)\n",
       "  --------------\n",
       "  samples:          15\n",
       "  evals/sample:     1"
      ]
     },
     "execution_count": 8,
     "metadata": {},
     "output_type": "execute_result"
    }
   ],
   "source": [
    "# Serial test, 100 particelle\n",
    "benchmark_serial(100)"
   ]
  },
  {
   "cell_type": "code",
   "execution_count": 9,
   "metadata": {},
   "outputs": [
    {
     "data": {
      "text/plain": [
       "BenchmarkTools.Trial: \n",
       "  memory estimate:  592.02 KiB\n",
       "  allocs estimate:  3\n",
       "  --------------\n",
       "  minimum time:     8.656 s (0.00% GC)\n",
       "  median time:      8.656 s (0.00% GC)\n",
       "  mean time:        8.656 s (0.00% GC)\n",
       "  maximum time:     8.656 s (0.00% GC)\n",
       "  --------------\n",
       "  samples:          1\n",
       "  evals/sample:     1"
      ]
     },
     "execution_count": 9,
     "metadata": {},
     "output_type": "execute_result"
    }
   ],
   "source": [
    "# Serial test, 500 particelle\n",
    "benchmark_serial(500)"
   ]
  },
  {
   "cell_type": "code",
   "execution_count": 10,
   "metadata": {},
   "outputs": [
    {
     "data": {
      "text/plain": [
       "BenchmarkTools.Trial: \n",
       "  memory estimate:  1.16 MiB\n",
       "  allocs estimate:  3\n",
       "  --------------\n",
       "  minimum time:     34.719 s (0.00% GC)\n",
       "  median time:      34.719 s (0.00% GC)\n",
       "  mean time:        34.719 s (0.00% GC)\n",
       "  maximum time:     34.719 s (0.00% GC)\n",
       "  --------------\n",
       "  samples:          1\n",
       "  evals/sample:     1"
      ]
     },
     "execution_count": 10,
     "metadata": {},
     "output_type": "execute_result"
    }
   ],
   "source": [
    "# Serial test, 1000 particelle\n",
    "benchmark_serial(1000)"
   ]
  },
  {
   "cell_type": "code",
   "execution_count": 11,
   "metadata": {},
   "outputs": [
    {
     "data": {
      "text/plain": [
       "BenchmarkTools.Trial: \n",
       "  memory estimate:  1.39 MiB\n",
       "  allocs estimate:  3\n",
       "  --------------\n",
       "  minimum time:     49.810 s (0.00% GC)\n",
       "  median time:      49.810 s (0.00% GC)\n",
       "  mean time:        49.810 s (0.00% GC)\n",
       "  maximum time:     49.810 s (0.00% GC)\n",
       "  --------------\n",
       "  samples:          1\n",
       "  evals/sample:     1"
      ]
     },
     "execution_count": 11,
     "metadata": {},
     "output_type": "execute_result"
    }
   ],
   "source": [
    "# Serial test, 1200 particelle\n",
    "benchmark_serial(1200)"
   ]
  },
  {
   "cell_type": "code",
   "execution_count": 12,
   "metadata": {},
   "outputs": [
    {
     "data": {
      "text/plain": [
       "BenchmarkTools.Trial: \n",
       "  memory estimate:  1.73 MiB\n",
       "  allocs estimate:  4\n",
       "  --------------\n",
       "  minimum time:     77.771 s (0.00% GC)\n",
       "  median time:      77.771 s (0.00% GC)\n",
       "  mean time:        77.771 s (0.00% GC)\n",
       "  maximum time:     77.771 s (0.00% GC)\n",
       "  --------------\n",
       "  samples:          1\n",
       "  evals/sample:     1"
      ]
     },
     "execution_count": 12,
     "metadata": {},
     "output_type": "execute_result"
    }
   ],
   "source": [
    "# Serial test, 1500 particelle\n",
    "benchmark_serial(1500)"
   ]
  },
  {
   "cell_type": "markdown",
   "metadata": {},
   "source": [
    "### CPU Multi Thread Version Benchmark"
   ]
  },
  {
   "cell_type": "code",
   "execution_count": 13,
   "metadata": {
    "scrolled": true
   },
   "outputs": [
    {
     "data": {
      "text/plain": [
       "Main.CPUMTmd"
      ]
     },
     "execution_count": 13,
     "metadata": {},
     "output_type": "execute_result"
    }
   ],
   "source": [
    "include(\"src/CPUMTmd.jl\")"
   ]
  },
  {
   "cell_type": "code",
   "execution_count": 14,
   "metadata": {},
   "outputs": [
    {
     "name": "stdout",
     "output_type": "stream",
     "text": [
      "Threads disponibili: 8\n"
     ]
    }
   ],
   "source": [
    "println(\"Threads disponibili: \", CPUMTmd.nthreads())"
   ]
  },
  {
   "cell_type": "code",
   "execution_count": 15,
   "metadata": {},
   "outputs": [
    {
     "data": {
      "text/plain": [
       "benchmark_CPUMT (generic function with 1 method)"
      ]
     },
     "execution_count": 15,
     "metadata": {},
     "output_type": "execute_result"
    }
   ],
   "source": [
    "function benchmark_CPUMT(part_num)\n",
    "    # Genera stato iniziale del sistema sulla base dei valori originali\n",
    "    pos, vel, acc, masses, interactions, ptypes = CPUMTmd.random_data(dim, part_num, num_part_types, box_size)\n",
    "    # Benchmark\n",
    "    @benchmark begin\n",
    "        @sync begin\n",
    "            CPUMTmd.dynamics_sim!($nsteps, $sinterval, $false, $dt, $pos, $vel, $acc, $masses, \n",
    "                                  $interactions, $ptypes, $box_size, $periodic, $true)\n",
    "        end\n",
    "    end\n",
    "end"
   ]
  },
  {
   "cell_type": "code",
   "execution_count": 16,
   "metadata": {},
   "outputs": [],
   "source": [
    "## PRE-BENCHMARK ## (Compilazione JIT e Caching)"
   ]
  },
  {
   "cell_type": "code",
   "execution_count": 17,
   "metadata": {},
   "outputs": [
    {
     "name": "stdout",
     "output_type": "stream",
     "text": [
      "  0.113945 seconds (245.78 k allocations: 12.206 MiB)\n"
     ]
    }
   ],
   "source": [
    "@time pos, vel, acc, masses, interactions, ptypes = CPUMTmd.random_data(3, 10, 2, 10);"
   ]
  },
  {
   "cell_type": "code",
   "execution_count": 18,
   "metadata": {},
   "outputs": [
    {
     "name": "stdout",
     "output_type": "stream",
     "text": [
      "  0.382960 seconds (738.01 k allocations: 36.333 MiB, 2.25% gc time)\n"
     ]
    }
   ],
   "source": [
    "@time CPUMTmd.dynamics_sim!(3, 1, false, dt, pos, vel, acc, masses, interactions, ptypes, box_size, periodic, true);"
   ]
  },
  {
   "cell_type": "code",
   "execution_count": 19,
   "metadata": {},
   "outputs": [
    {
     "data": {
      "text/plain": [
       "BenchmarkTools.Trial: \n",
       "  memory estimate:  45.60 MiB\n",
       "  allocs estimate:  2321113\n",
       "  --------------\n",
       "  minimum time:     271.049 ms (0.00% GC)\n",
       "  median time:      301.831 ms (0.00% GC)\n",
       "  mean time:        313.836 ms (2.88% GC)\n",
       "  maximum time:     367.116 ms (0.00% GC)\n",
       "  --------------\n",
       "  samples:          16\n",
       "  evals/sample:     1"
      ]
     },
     "execution_count": 19,
     "metadata": {},
     "output_type": "execute_result"
    }
   ],
   "source": [
    "# CPU-MT test 100 particelle\n",
    "benchmark_CPUMT(100)"
   ]
  },
  {
   "cell_type": "code",
   "execution_count": 20,
   "metadata": {},
   "outputs": [
    {
     "data": {
      "text/plain": [
       "BenchmarkTools.Trial: \n",
       "  memory estimate:  180.30 MiB\n",
       "  allocs estimate:  11118329\n",
       "  --------------\n",
       "  minimum time:     2.288 s (0.00% GC)\n",
       "  median time:      2.341 s (2.76% GC)\n",
       "  mean time:        2.353 s (1.85% GC)\n",
       "  maximum time:     2.429 s (2.66% GC)\n",
       "  --------------\n",
       "  samples:          3\n",
       "  evals/sample:     1"
      ]
     },
     "execution_count": 20,
     "metadata": {},
     "output_type": "execute_result"
    }
   ],
   "source": [
    "# CPU-MT test 500 particelle\n",
    "benchmark_CPUMT(500)"
   ]
  },
  {
   "cell_type": "code",
   "execution_count": 21,
   "metadata": {},
   "outputs": [
    {
     "data": {
      "text/plain": [
       "BenchmarkTools.Trial: \n",
       "  memory estimate:  348.77 MiB\n",
       "  allocs estimate:  22121327\n",
       "  --------------\n",
       "  minimum time:     9.368 s (0.85% GC)\n",
       "  median time:      9.368 s (0.85% GC)\n",
       "  mean time:        9.368 s (0.85% GC)\n",
       "  maximum time:     9.368 s (0.85% GC)\n",
       "  --------------\n",
       "  samples:          1\n",
       "  evals/sample:     1"
      ]
     },
     "execution_count": 21,
     "metadata": {},
     "output_type": "execute_result"
    }
   ],
   "source": [
    "# CPU-MT test 1000 particelle\n",
    "benchmark_CPUMT(1000)"
   ]
  },
  {
   "cell_type": "code",
   "execution_count": 22,
   "metadata": {},
   "outputs": [
    {
     "data": {
      "text/plain": [
       "BenchmarkTools.Trial: \n",
       "  memory estimate:  416.16 MiB\n",
       "  allocs estimate:  26522088\n",
       "  --------------\n",
       "  minimum time:     12.218 s (0.67% GC)\n",
       "  median time:      12.218 s (0.67% GC)\n",
       "  mean time:        12.218 s (0.67% GC)\n",
       "  maximum time:     12.218 s (0.67% GC)\n",
       "  --------------\n",
       "  samples:          1\n",
       "  evals/sample:     1"
      ]
     },
     "execution_count": 22,
     "metadata": {},
     "output_type": "execute_result"
    }
   ],
   "source": [
    "# CPU-MT test 1200 particelle\n",
    "benchmark_CPUMT(1200)"
   ]
  },
  {
   "cell_type": "code",
   "execution_count": 23,
   "metadata": {},
   "outputs": [
    {
     "data": {
      "text/plain": [
       "BenchmarkTools.Trial: \n",
       "  memory estimate:  517.18 MiB\n",
       "  allocs estimate:  33120260\n",
       "  --------------\n",
       "  minimum time:     18.874 s (0.44% GC)\n",
       "  median time:      18.874 s (0.44% GC)\n",
       "  mean time:        18.874 s (0.44% GC)\n",
       "  maximum time:     18.874 s (0.44% GC)\n",
       "  --------------\n",
       "  samples:          1\n",
       "  evals/sample:     1"
      ]
     },
     "execution_count": 23,
     "metadata": {},
     "output_type": "execute_result"
    }
   ],
   "source": [
    "# CPU-MT test 1500 particelle\n",
    "benchmark_CPUMT(1500)"
   ]
  },
  {
   "cell_type": "markdown",
   "metadata": {},
   "source": [
    "### CUDA Version Benchmark"
   ]
  },
  {
   "cell_type": "code",
   "execution_count": 24,
   "metadata": {},
   "outputs": [
    {
     "data": {
      "text/plain": [
       "Main.CUDAmd"
      ]
     },
     "execution_count": 24,
     "metadata": {},
     "output_type": "execute_result"
    }
   ],
   "source": [
    "include(\"src/CUDAmd.jl\")"
   ]
  },
  {
   "cell_type": "code",
   "execution_count": 25,
   "metadata": {},
   "outputs": [
    {
     "data": {
      "text/plain": [
       "256"
      ]
     },
     "execution_count": 25,
     "metadata": {},
     "output_type": "execute_result"
    }
   ],
   "source": [
    "# Threads per blocco\n",
    "const TPB = 256"
   ]
  },
  {
   "cell_type": "code",
   "execution_count": 26,
   "metadata": {},
   "outputs": [
    {
     "data": {
      "text/plain": [
       "benchmark_CUDA (generic function with 1 method)"
      ]
     },
     "execution_count": 26,
     "metadata": {},
     "output_type": "execute_result"
    }
   ],
   "source": [
    "function benchmark_CUDA(cuThreads, part_num)\n",
    "    # Genera stato iniziale del sistema sulla base dei valori originali\n",
    "    pos, vel, acc, masses, interactions, ptypes = CUDAmd.random_data(dim, part_num, num_part_types, box_size)\n",
    "    # Benchmark\n",
    "    @benchmark begin\n",
    "        CUDAmd.CuArrays.@sync begin\n",
    "            CUDAmd.dynamics_sim!($TPB, $nsteps, $sinterval, $false, $dt, $pos, $vel, $acc, $masses, \n",
    "                                 $interactions, $ptypes, $box_size, $periodic, $true)\n",
    "        end\n",
    "    end\n",
    "end"
   ]
  },
  {
   "cell_type": "code",
   "execution_count": 27,
   "metadata": {},
   "outputs": [],
   "source": [
    "## PRE-BENCHMARK ## (Compilazione JIT e Caching)"
   ]
  },
  {
   "cell_type": "code",
   "execution_count": 28,
   "metadata": {},
   "outputs": [
    {
     "name": "stdout",
     "output_type": "stream",
     "text": [
      "  1.435257 seconds (1.74 M allocations: 87.081 MiB, 2.32% gc time)\n"
     ]
    }
   ],
   "source": [
    "@time pos, vel, acc, masses, interactions, ptypes = CUDAmd.random_data(3, 10, 2, 10);"
   ]
  },
  {
   "cell_type": "code",
   "execution_count": 29,
   "metadata": {},
   "outputs": [
    {
     "name": "stdout",
     "output_type": "stream",
     "text": [
      " 10.871836 seconds (14.29 M allocations: 713.670 MiB, 3.24% gc time)\n"
     ]
    }
   ],
   "source": [
    "@time CUDAmd.dynamics_sim!(TPB, 3, 1, false, dt, pos, vel, acc, masses, interactions, ptypes, box_size, periodic, true);"
   ]
  },
  {
   "cell_type": "code",
   "execution_count": 30,
   "metadata": {},
   "outputs": [
    {
     "data": {
      "text/plain": [
       "BenchmarkTools.Trial: \n",
       "  memory estimate:  4.49 MiB\n",
       "  allocs estimate:  135026\n",
       "  --------------\n",
       "  minimum time:     647.481 ms (0.00% GC)\n",
       "  median time:      647.649 ms (0.00% GC)\n",
       "  mean time:        647.754 ms (0.00% GC)\n",
       "  maximum time:     648.100 ms (0.00% GC)\n",
       "  --------------\n",
       "  samples:          8\n",
       "  evals/sample:     1"
      ]
     },
     "execution_count": 30,
     "metadata": {},
     "output_type": "execute_result"
    }
   ],
   "source": [
    "# CUDA test 100 particelle\n",
    "benchmark_CUDA(TPB, 100)"
   ]
  },
  {
   "cell_type": "code",
   "execution_count": 31,
   "metadata": {},
   "outputs": [
    {
     "data": {
      "text/plain": [
       "BenchmarkTools.Trial: \n",
       "  memory estimate:  4.50 MiB\n",
       "  allocs estimate:  136026\n",
       "  --------------\n",
       "  minimum time:     3.377 s (0.00% GC)\n",
       "  median time:      3.377 s (0.00% GC)\n",
       "  mean time:        3.377 s (0.00% GC)\n",
       "  maximum time:     3.377 s (0.00% GC)\n",
       "  --------------\n",
       "  samples:          2\n",
       "  evals/sample:     1"
      ]
     },
     "execution_count": 31,
     "metadata": {},
     "output_type": "execute_result"
    }
   ],
   "source": [
    "# CUDA test 500 particelle\n",
    "benchmark_CUDA(TPB, 500)"
   ]
  },
  {
   "cell_type": "code",
   "execution_count": 32,
   "metadata": {},
   "outputs": [
    {
     "data": {
      "text/plain": [
       "BenchmarkTools.Trial: \n",
       "  memory estimate:  4.56 MiB\n",
       "  allocs estimate:  140026\n",
       "  --------------\n",
       "  minimum time:     6.727 s (0.00% GC)\n",
       "  median time:      6.727 s (0.00% GC)\n",
       "  mean time:        6.727 s (0.00% GC)\n",
       "  maximum time:     6.727 s (0.00% GC)\n",
       "  --------------\n",
       "  samples:          1\n",
       "  evals/sample:     1"
      ]
     },
     "execution_count": 32,
     "metadata": {},
     "output_type": "execute_result"
    }
   ],
   "source": [
    "# CUDA test 1000 particelle\n",
    "benchmark_CUDA(TPB, 1000)"
   ]
  },
  {
   "cell_type": "code",
   "execution_count": 33,
   "metadata": {},
   "outputs": [
    {
     "data": {
      "text/plain": [
       "BenchmarkTools.Trial: \n",
       "  memory estimate:  4.56 MiB\n",
       "  allocs estimate:  140026\n",
       "  --------------\n",
       "  minimum time:     8.045 s (0.00% GC)\n",
       "  median time:      8.045 s (0.00% GC)\n",
       "  mean time:        8.045 s (0.00% GC)\n",
       "  maximum time:     8.045 s (0.00% GC)\n",
       "  --------------\n",
       "  samples:          1\n",
       "  evals/sample:     1"
      ]
     },
     "execution_count": 33,
     "metadata": {},
     "output_type": "execute_result"
    }
   ],
   "source": [
    "# CUDA test 1200 particelle\n",
    "benchmark_CUDA(TPB, 1200)"
   ]
  },
  {
   "cell_type": "code",
   "execution_count": 34,
   "metadata": {},
   "outputs": [
    {
     "data": {
      "text/plain": [
       "BenchmarkTools.Trial: \n",
       "  memory estimate:  4.56 MiB\n",
       "  allocs estimate:  140026\n",
       "  --------------\n",
       "  minimum time:     10.034 s (0.00% GC)\n",
       "  median time:      10.034 s (0.00% GC)\n",
       "  mean time:        10.034 s (0.00% GC)\n",
       "  maximum time:     10.034 s (0.00% GC)\n",
       "  --------------\n",
       "  samples:          1\n",
       "  evals/sample:     1"
      ]
     },
     "execution_count": 34,
     "metadata": {},
     "output_type": "execute_result"
    }
   ],
   "source": [
    "# CUDA test 1500 particelle\n",
    "benchmark_CUDA(TPB, 1500)"
   ]
  },
  {
   "cell_type": "code",
   "execution_count": null,
   "metadata": {},
   "outputs": [],
   "source": []
  }
 ],
 "metadata": {
  "kernelspec": {
   "display_name": "Julia 1.3.1",
   "language": "julia",
   "name": "julia-1.3"
  },
  "language_info": {
   "file_extension": ".jl",
   "mimetype": "application/julia",
   "name": "julia",
   "version": "1.3.1"
  }
 },
 "nbformat": 4,
 "nbformat_minor": 2
}
