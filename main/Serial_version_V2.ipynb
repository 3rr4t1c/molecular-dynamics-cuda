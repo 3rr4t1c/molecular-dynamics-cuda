{
 "cells": [
  {
   "cell_type": "code",
   "execution_count": null,
   "metadata": {},
   "outputs": [],
   "source": [
    "#= Costanti (sola lettura)\n",
    "-- Numbers and boolean --\n",
    "number_of_steps = 1000; # Number of steps to execute in simulation, Intero positivo [1,+∞)\n",
    "dim = 3; # Dimensions of simulation, dimensioni dello spazio 2D o 3D, Intero positivo (tipicamente [2,3])\n",
    "box_size = 10.0; # Size of one side of box, lunghezza di un lato del campo di simulazione Float positivo [1.0, +∞)\n",
    "finite_box = true; # Whether box if finite or just where particles are initially placed, vero se il campo è finito<APPROFONDIRE\n",
    "periodic = true; # Whether simulation is periodic < true se la simulazione è periodica (pac-man)\n",
    "part_num = 100; # Number of particles in simulation, numero di particelle da simulare \n",
    "dt = 0.01; # Time step, controlla la precisione della simulazione\n",
    "num_part_types = 2; # Number of types of particles, numero di tipologie di particelle Intero positivo [1, +∞]\n",
    "save_interval = 10; # Ogni quanti passi viene salvata la posizione, (per la visualizzazione), Intero positivo [1, number_of_steps)\n",
    "\n",
    "-- Arrays --\n",
    "interaction_params = gen_interaction(num_part_types); # Interations parameters for types of particles, parametri di interazione, array?\n",
    "mass_parts = rand(Float64, num_part_types); # Masses of types of particles, massa per ogni tipo di particella, array\n",
    "part_types = rand(1:num_part_types, part_num) # Randomly assign type of each particle\n",
    "=#"
   ]
  },
  {
   "cell_type": "code",
   "execution_count": null,
   "metadata": {},
   "outputs": [],
   "source": [
    "#= Strutture dati (lettura, scrittura)\n",
    "\n",
    "# Matrici bi-dimensionali per tracciare lo stato del sistema ad ogni step\n",
    "pos = box_size*rand(Float64, part_num, dim) # Initialized to be randomly placed within a box\n",
    "vel = zeros(Float64, part_num, dim) # Initialized to zero\n",
    "acc = zeros(Float64, part_num, dim) # Initialized to zero\n",
    "force = find_force(....) # \n",
    "\n",
    "# Matrici tridimensionali per salvare lo stato del sistema ad ogni intervallo\n",
    "saved_positions = zeros(num_pos, part_num, dim) # Save positions with specified frequency, unico utile per la visualizzazione\n",
    "saved_velocities = zeros(num_pos, part_num, dim) # Save velocities with specified frequency\n",
    "saved_accelerations = zeros(num_pos, part_num, dim) # Save accelerations with specified frequency\n",
    "saved_forces = zeros(num_pos, part_num, dim) # Save forces with specified frequency\n",
    "=#"
   ]
  },
  {
   "cell_type": "code",
   "execution_count": 1,
   "metadata": {},
   "outputs": [
    {
     "data": {
      "text/plain": [
       "gen_interaction (generic function with 1 method)"
      ]
     },
     "execution_count": 1,
     "metadata": {},
     "output_type": "execute_result"
    }
   ],
   "source": [
    "# Generate strengths of interactions between particle types\n",
    "# Very simple but user could replace with anything they wanted\n",
    "# Modifiche: Cambio tipo da Float64 a Float32, inserito break perché matrice simmetrica\n",
    "function gen_interaction(num_part_types)\n",
    "    interaction_params = Array{Float32}(undef, num_part_types, num_part_types)\n",
    "    for i=1:num_part_types\n",
    "        for j = 1:num_part_types\n",
    "            if (i==j) # Self-interaction is randomly repulsive\n",
    "                interaction_params[i,j] = -1*rand(Float32)\n",
    "            elseif (i<j) # Others randomly attractive\n",
    "                val = rand(Float32)\n",
    "                interaction_params[i,j] = val\n",
    "                interaction_params[j,i] = val\n",
    "            else\n",
    "                break\n",
    "            end\n",
    "        end        \n",
    "    end    \n",
    "    return interaction_params\n",
    "end"
   ]
  },
  {
   "cell_type": "code",
   "execution_count": 3,
   "metadata": {},
   "outputs": [
    {
     "name": "stdout",
     "output_type": "stream",
     "text": [
      "  0.000003 seconds (5 allocations: 656 bytes)\n"
     ]
    },
    {
     "data": {
      "text/plain": [
       "10×10 Array{Float32,2}:\n",
       " -0.876137   0.810953     0.330925     …  0.0502217    0.525466   \n",
       "  0.810953   0.0          0.0             0.0          0.0        \n",
       "  0.330925   5.04289e-29  5.08828e-29     5.04327e-29  5.04332e-29\n",
       "  0.627507   0.0          0.0             0.0          0.0        \n",
       "  0.483399   5.0429e-29   5.08836e-29     5.04328e-29  5.04333e-29\n",
       "  0.669534   0.0          0.0          …  0.0          0.0        \n",
       "  0.41113    5.04291e-29  5.07717e-29     5.04329e-29  5.04334e-29\n",
       "  0.333238   0.0          0.0             0.0          0.0        \n",
       "  0.0502217  5.04292e-29  5.07718e-29     5.0433e-29   5.04335e-29\n",
       "  0.525466   0.0          0.0             0.0          0.0        "
      ]
     },
     "execution_count": 3,
     "metadata": {},
     "output_type": "execute_result"
    }
   ],
   "source": [
    "# Test #\n",
    "gen_interaction(10);\n",
    "@time gen_interaction(10)"
   ]
  },
  {
   "cell_type": "code",
   "execution_count": 11,
   "metadata": {},
   "outputs": [
    {
     "data": {
      "text/plain": [
       "find_force! (generic function with 1 method)"
      ]
     },
     "execution_count": 11,
     "metadata": {},
     "output_type": "execute_result"
    }
   ],
   "source": [
    "# Find force on each particle\n",
    "# 1/r^2 interactions: Is very simple but user can replace with anything they want\n",
    "function find_force!(force, part_num, dim, pos, vel, acc, part_types, interaction_params, mass_parts, periodic, box_size)    \n",
    "    for i = 1:part_num # For every particle\n",
    "        mass = mass_parts[Int(part_types[i])]\n",
    "        for k = 1:part_num # Contribution from every other particle\n",
    "            if (i != k) # No self-interaction\n",
    "                for j = 1:dim # For each dimension\n",
    "                    int_strength = interaction_params[part_types[i],part_types[k]] # Strength of interaction between particles\n",
    "                    if (pos[i,j] > pos[k,j])\n",
    "                       int_strength = -1*int_strength # Reverses direction of force if positions flopped\n",
    "                    end\n",
    "\n",
    "                    # Find distance between particles\n",
    "                    dist = 0.0\n",
    "                    if (periodic) # If periodic, check whether a periodic distance is shorter\n",
    "                        dist = abs(pos[i,j] - pos[k,j])\n",
    "                        if (pos[i,j] < pos[k,j])\n",
    "                            new_dist = abs(box_size + pos[i,j] - pos[k,j])\n",
    "                            if new_dist > dist\n",
    "                                dist = new_dist\n",
    "                                int_strength = -1*int_strength # Reverses direction of force\n",
    "                            end\n",
    "                        else\n",
    "                            new_dist = abs(box_size + pos[k,j] - pos[i,j])\n",
    "                            if new_dist > dist\n",
    "                                dist = new_dist\n",
    "                                int_strength = -1*int_strength # Reverses direction of force\n",
    "                            end\n",
    "                        end\n",
    "                        else # Otherwise, just regular distance\n",
    "                        dist = abs(pos[i,j] - pos[k,j])\n",
    "                    end\n",
    "                    \n",
    "                    force[i,j] += int_strength / dist^2 # 1/r^2 interaction\n",
    "                end\n",
    "            end\n",
    "        end\n",
    "    end\n",
    "    return nothing # Modifica C++ style\n",
    "end"
   ]
  },
  {
   "cell_type": "code",
   "execution_count": 16,
   "metadata": {},
   "outputs": [
    {
     "data": {
      "text/plain": [
       "step_update! (generic function with 1 method)"
      ]
     },
     "execution_count": 16,
     "metadata": {},
     "output_type": "execute_result"
    }
   ],
   "source": [
    "# Update position, velocity, and acceleration using Velocity Verlet Algorithm\n",
    "# Can deal with infinite and finite systems\n",
    "# For finite system, can be periodic or can reflect off walls\n",
    "function step_update!(part_num, dim, pos, vel, acc, force, part_types, mass_parts, dt, box_size, finite_box, periodic)\n",
    "\n",
    "    # Loop is completely parallelizale\n",
    "    for i = 1:part_num # For every particle\n",
    "        mass = mass_parts[part_types[i]]\n",
    "        for j = 1:dim # For each dimension\n",
    "            pos[i,j] = pos[i,j] + vel[i,j]*dt + 0.5*acc[i,j]*dt^2 # x(t+Δt) = x(t) + v(t)Δt + 1/2*a(t)(Δt)^2\n",
    "            vel[i,j] = vel[i,j] + 0.5*(acc[i,j] + force[i,j]/mass)*dt # v(t+Δt) = v(t) + 1/2*(a(t)+a(t+Δt))Δt\n",
    "            acc[i,j] = force[i,j]/mass # a = F/m\n",
    "            \n",
    "            if (finite_box) # If finite box, check are still inside and correct if not\n",
    "                if (periodic) # For periodic, just change position to be in box\n",
    "                    if (pos[i,j] < 0) # If no longer in box\n",
    "                        pos[i,j] = box_size + (pos[i,j] % box_size)\n",
    "                    elseif (pos[i,j] > box_size) # If no longer in box\n",
    "                        pos[i,j] = pos[i,j] % box_size                        \n",
    "                    end\n",
    "                else # If not periodic, more complicated - reflects off walls\n",
    "                    if (pos[i,j] < 0) # If no longer in box\n",
    "                        pos[i,j] = -1*(pos[i,j])\n",
    "                    elseif (pos[i,j] > box_size) # If no longer in box\n",
    "                        pos[i,j] = box_size - pos[i,j]\n",
    "                    end\n",
    "                    vel[i,j] = -1*(vel[i,j])\n",
    "                    acc[i,j] = -1*(acc[i,j])\n",
    "                end\n",
    "            end\n",
    "        end\n",
    "    end    \n",
    "    # return pos, vel, acc # No need to return b/c is passed by reference\n",
    "    return nothing # Modifica, C++ style\n",
    "end"
   ]
  },
  {
   "cell_type": "code",
   "execution_count": 21,
   "metadata": {},
   "outputs": [
    {
     "data": {
      "text/plain": [
       "dynamics_simulation (generic function with 1 method)"
      ]
     },
     "execution_count": 21,
     "metadata": {},
     "output_type": "execute_result"
    }
   ],
   "source": [
    "#= The main program function, take in some parameters, returns a 3D matrix of positions for each time interval.\n",
    "\n",
    "-> Input:\n",
    "1. number_of_steps = Numero di iterazioni della simulazione, intero positivo [1, +∞)\n",
    "2. dim = Numero di dimensioni dello spazio (2D o 3D), intero positivo, tipicamente [2,3]\n",
    "3. box_size = Lunghezza di un lato del box di simulazione (quadrato o cubo), float positivo [1.0, +∞)\n",
    "4. finite_box = Vero se il campo è finito <APPROFONDIRE, booleano [true, false]\n",
    "5. periodic = Vero se la simulazione è periodica (pac-man), booleano [true, false]\n",
    "6. part_num = Numero di particelle da simulare, intero positivo [1, +∞) \n",
    "7. dt = Grandezza del passo temporale, float positivo preferibilmente piccolo (0, +∞)\n",
    "8. num_part_types = Numero di tipologie di particelle Intero positivo [1, +∞)\n",
    "9. save_interval = Ogni quanti steps viene salvata la posizione, intero positivo [1, number_of_steps]\n",
    "# Nuove variabili (?)\n",
    "10. load_from_disk = Vero se si vuole caricare da disco i dati di una simulazione precedente (sovrascrive alcuni parametri)\n",
    "11. save_on_disk = Vero se si vuole salvare su disco lo stato finale della simulazione\n",
    "\n",
    "<- Output:\n",
    "1. saved_positions = Sequenza temporale delle posizioni di ciascuna particella, matrice 3D, num_pos x part_num x dim\n",
    "(num_pos = Numero di posizioni da salvare, funzione di number_of_steps e save_interval )\n",
    "============================#\n",
    "function dynamics_simulation(number_of_steps, dim, box_size, finite_box, periodic, part_num, dt, num_part_types, save_interval)\n",
    "    # Inizializza strutture dati    \n",
    "    # Costanti dipendenti dai parametri\n",
    "    interaction_params = gen_interaction(num_part_types) # parametri di interazione, matrice quadrata num_part_types^2\n",
    "    mass_parts = rand(Float32, num_part_types); # Masses of types of particles, massa per ogni tipo di particella, array\n",
    "    part_types = rand(1:num_part_types, part_num) # Randomly assign type of each particle\n",
    "      \n",
    "    # Variabili aggiornate ad ogni iterazione\n",
    "    pos = box_size*rand(Float32, part_num, dim) # Initialized to be randomly placed within a box (Usare funzione?)\n",
    "    vel = Array{Float32}(undef, part_num, dim) #zeros(Float64, part_num, dim) # Initialized to zero\n",
    "    acc = Array{Float32}(undef, part_num, dim) #zeros(Float64, part_num, dim) # Initialized to zero\n",
    "    force = Array{Float32}(undef, part_num, dim) #zeros(Float64, part_num, dim) # Initialized to zero\n",
    "    \n",
    "    # Variabili per il salvataggio\n",
    "    num_pos = floor(Int, number_of_steps/save_interval) + 1\n",
    "    saved_positions = Array{Float32}(undef, num_pos, part_num, dim) #zeros(num_pos, part_num, dim)\n",
    "    saved_velocities = Array{Float32}(undef, num_pos, part_num, dim) #zeros(num_pos, part_num, dim) # Save velocities with specified frequency\n",
    "    saved_accelerations = Array{Float32}(undef, num_pos, part_num, dim) #zeros(num_pos, part_num, dim) # Save accelerations with specified frequency\n",
    "    saved_forces = Array{Float32}(undef, num_pos, part_num, dim) #zeros(num_pos, part_num, dim) # Save forces with specified frequency\n",
    "    \n",
    "    # Calcolo delle forze agenti su ciascuna particella\n",
    "    # Modifica: calcolo prima le forze e poi aggiorno con verlet direttamente nel loop\n",
    "    # Loop per ciascuno step\n",
    "    for t in 1:number_of_steps\n",
    "        # Calcola forze agenti su ciascuna particella\n",
    "        find_force!(force, part_num, dim, pos, vel, acc, part_types, interaction_params, mass_parts, periodic, box_size)\n",
    "        # aggiornamento step\n",
    "        step_update!(part_num, dim, pos, vel, acc, force, part_types, mass_parts, dt, box_size, finite_box, periodic)        \n",
    "        # Salvataggi\n",
    "        # Salva posizioni (TODO: funzione per il salvataggio save!(m2, m3) m2 matrice 2D, m3 matrice 3D\n",
    "        # Se salvi su disco salva anche vel, acc e force\n",
    "    end\n",
    "    # Restituisci le posizioni per intervallo di tempo\n",
    "    return saved_positions\n",
    "end"
   ]
  },
  {
   "cell_type": "code",
   "execution_count": 22,
   "metadata": {},
   "outputs": [
    {
     "name": "stdout",
     "output_type": "stream",
     "text": [
      "  0.000552 seconds (16 allocations: 50.984 KiB)\n"
     ]
    }
   ],
   "source": [
    "dynamics_simulation(100, 3, 10.0, true, true, 20, 0.01, 3, 2);\n",
    "@time dynamics_simulation(100, 3, 10.0, true, true, 20, 0.01, 3, 2);"
   ]
  },
  {
   "cell_type": "code",
   "execution_count": 23,
   "metadata": {},
   "outputs": [
    {
     "data": {
      "text/plain": [
       "BenchmarkTools.Trial: \n",
       "  memory estimate:  50.83 KiB\n",
       "  allocs estimate:  12\n",
       "  --------------\n",
       "  minimum time:     486.400 μs (0.00% GC)\n",
       "  median time:      838.799 μs (0.00% GC)\n",
       "  mean time:        837.548 μs (0.21% GC)\n",
       "  maximum time:     3.490 ms (73.89% GC)\n",
       "  --------------\n",
       "  samples:          5957\n",
       "  evals/sample:     1"
      ]
     },
     "execution_count": 23,
     "metadata": {},
     "output_type": "execute_result"
    }
   ],
   "source": [
    "using BenchmarkTools\n",
    "@benchmark dynamics_simulation(100, 3, 10.0, true, true, 20, 0.01, 3, 2)"
   ]
  },
  {
   "cell_type": "code",
   "execution_count": null,
   "metadata": {},
   "outputs": [],
   "source": []
  }
 ],
 "metadata": {
  "kernelspec": {
   "display_name": "Julia 1.3.1",
   "language": "julia",
   "name": "julia-1.3"
  },
  "language_info": {
   "file_extension": ".jl",
   "mimetype": "application/julia",
   "name": "julia",
   "version": "1.3.1"
  }
 },
 "nbformat": 4,
 "nbformat_minor": 2
}
