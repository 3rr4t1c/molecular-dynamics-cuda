{
 "cells": [
  {
   "cell_type": "markdown",
   "metadata": {},
   "source": [
    "# Benchmark"
   ]
  },
  {
   "cell_type": "code",
   "execution_count": 1,
   "metadata": {},
   "outputs": [],
   "source": [
    "using BenchmarkTools"
   ]
  },
  {
   "cell_type": "code",
   "execution_count": 2,
   "metadata": {},
   "outputs": [],
   "source": [
    "# Valori originali del test di Crabb\n",
    "const box_size = 1f3;\n",
    "const dim = 3;\n",
    "const dt = 0.01f0;\n",
    "const num_part_types = 2;\n",
    "const nsteps = 1000;\n",
    "const periodic = true;\n",
    "const sinterval = 10;"
   ]
  },
  {
   "cell_type": "markdown",
   "metadata": {},
   "source": [
    "### Serial version benchmark"
   ]
  },
  {
   "cell_type": "code",
   "execution_count": 3,
   "metadata": {
    "scrolled": true
   },
   "outputs": [
    {
     "data": {
      "text/plain": [
       "Main.Serialmd"
      ]
     },
     "execution_count": 3,
     "metadata": {},
     "output_type": "execute_result"
    }
   ],
   "source": [
    "include(\"src/serialmd.jl\")"
   ]
  },
  {
   "cell_type": "code",
   "execution_count": 4,
   "metadata": {},
   "outputs": [
    {
     "data": {
      "text/plain": [
       "benchmark_serial (generic function with 1 method)"
      ]
     },
     "execution_count": 4,
     "metadata": {},
     "output_type": "execute_result"
    }
   ],
   "source": [
    "function benchmark_serial(part_num)\n",
    "    # Genera stato iniziale del sistema sulla base dei valori originali\n",
    "    pos, vel, acc, masses, interactions, ptypes = Serialmd.random_data(dim, part_num, num_part_types, box_size)\n",
    "    # Benchmark\n",
    "    @benchmark Serialmd.dynamics_sim!($nsteps, $sinterval, $false, $dt, $pos, $vel, $acc, $masses, \n",
    "                                      $interactions, $ptypes, $box_size, $periodic, $true)\n",
    "end"
   ]
  },
  {
   "cell_type": "code",
   "execution_count": 5,
   "metadata": {},
   "outputs": [],
   "source": [
    "## PRE-BENCHMARK ## (Compilazione JIT e Caching)"
   ]
  },
  {
   "cell_type": "code",
   "execution_count": 6,
   "metadata": {},
   "outputs": [
    {
     "name": "stdout",
     "output_type": "stream",
     "text": [
      "  0.238353 seconds (1.17 M allocations: 59.821 MiB, 5.22% gc time)\n"
     ]
    }
   ],
   "source": [
    "@time pos, vel, acc, masses, interactions, ptypes = Serialmd.random_data(3, 10, 2, 10);"
   ]
  },
  {
   "cell_type": "code",
   "execution_count": 7,
   "metadata": {},
   "outputs": [
    {
     "name": "stdout",
     "output_type": "stream",
     "text": [
      "  0.192054 seconds (925.98 k allocations: 45.209 MiB, 3.22% gc time)\n"
     ]
    }
   ],
   "source": [
    "@time Serialmd.dynamics_sim!(3, 1, false, dt, pos, vel, acc, masses, interactions, ptypes, box_size, periodic, true);"
   ]
  },
  {
   "cell_type": "code",
   "execution_count": 8,
   "metadata": {
    "scrolled": true
   },
   "outputs": [
    {
     "data": {
      "text/plain": [
       "BenchmarkTools.Trial: \n",
       "  memory estimate:  118.59 KiB\n",
       "  allocs estimate:  3\n",
       "  --------------\n",
       "  minimum time:     195.991 ms (0.00% GC)\n",
       "  median time:      197.108 ms (0.00% GC)\n",
       "  mean time:        199.176 ms (0.00% GC)\n",
       "  maximum time:     209.105 ms (0.00% GC)\n",
       "  --------------\n",
       "  samples:          26\n",
       "  evals/sample:     1"
      ]
     },
     "execution_count": 8,
     "metadata": {},
     "output_type": "execute_result"
    }
   ],
   "source": [
    "# Serial test, 100 particelle\n",
    "benchmark_serial(100)"
   ]
  },
  {
   "cell_type": "code",
   "execution_count": 28,
   "metadata": {},
   "outputs": [
    {
     "data": {
      "text/plain": [
       "BenchmarkTools.Trial: \n",
       "  memory estimate:  592.02 KiB\n",
       "  allocs estimate:  3\n",
       "  --------------\n",
       "  minimum time:     5.087 s (0.00% GC)\n",
       "  median time:      5.087 s (0.00% GC)\n",
       "  mean time:        5.087 s (0.00% GC)\n",
       "  maximum time:     5.087 s (0.00% GC)\n",
       "  --------------\n",
       "  samples:          1\n",
       "  evals/sample:     1"
      ]
     },
     "execution_count": 28,
     "metadata": {},
     "output_type": "execute_result"
    }
   ],
   "source": [
    "# Serial test, 500 particelle\n",
    "benchmark_serial(500)"
   ]
  },
  {
   "cell_type": "code",
   "execution_count": 29,
   "metadata": {},
   "outputs": [
    {
     "data": {
      "text/plain": [
       "BenchmarkTools.Trial: \n",
       "  memory estimate:  1.16 MiB\n",
       "  allocs estimate:  3\n",
       "  --------------\n",
       "  minimum time:     20.242 s (0.00% GC)\n",
       "  median time:      20.242 s (0.00% GC)\n",
       "  mean time:        20.242 s (0.00% GC)\n",
       "  maximum time:     20.242 s (0.00% GC)\n",
       "  --------------\n",
       "  samples:          1\n",
       "  evals/sample:     1"
      ]
     },
     "execution_count": 29,
     "metadata": {},
     "output_type": "execute_result"
    }
   ],
   "source": [
    "# Serial test, 1000 particelle\n",
    "benchmark_serial(1000)"
   ]
  },
  {
   "cell_type": "markdown",
   "metadata": {},
   "source": [
    "### CPU Multi Thread Version Benchmark"
   ]
  },
  {
   "cell_type": "code",
   "execution_count": 11,
   "metadata": {
    "scrolled": true
   },
   "outputs": [
    {
     "data": {
      "text/plain": [
       "Main.CPUMTmd"
      ]
     },
     "execution_count": 11,
     "metadata": {},
     "output_type": "execute_result"
    }
   ],
   "source": [
    "include(\"src/CPUMTmd.jl\")"
   ]
  },
  {
   "cell_type": "code",
   "execution_count": 12,
   "metadata": {},
   "outputs": [
    {
     "name": "stdout",
     "output_type": "stream",
     "text": [
      "Threads disponibili: 12\n"
     ]
    }
   ],
   "source": [
    "println(\"Threads disponibili: \", CPUMTmd.nthreads())"
   ]
  },
  {
   "cell_type": "code",
   "execution_count": 13,
   "metadata": {},
   "outputs": [
    {
     "data": {
      "text/plain": [
       "benchmark_CPUMT (generic function with 1 method)"
      ]
     },
     "execution_count": 13,
     "metadata": {},
     "output_type": "execute_result"
    }
   ],
   "source": [
    "function benchmark_CPUMT(part_num)\n",
    "    # Genera stato iniziale del sistema sulla base dei valori originali\n",
    "    pos, vel, acc, masses, interactions, ptypes = CPUMTmd.random_data(dim, part_num, num_part_types, box_size)\n",
    "    # Benchmark\n",
    "    @benchmark begin\n",
    "        @sync begin\n",
    "            CPUMTmd.dynamics_sim!($nsteps, $sinterval, $false, $dt, $pos, $vel, $acc, $masses, \n",
    "                                  $interactions, $ptypes, $box_size, $periodic, $true)\n",
    "        end\n",
    "    end\n",
    "end"
   ]
  },
  {
   "cell_type": "code",
   "execution_count": 14,
   "metadata": {},
   "outputs": [],
   "source": [
    "## PRE-BENCHMARK ## (Compilazione JIT e Caching)"
   ]
  },
  {
   "cell_type": "code",
   "execution_count": 15,
   "metadata": {},
   "outputs": [
    {
     "name": "stdout",
     "output_type": "stream",
     "text": [
      "  0.065973 seconds (245.76 k allocations: 12.205 MiB, 7.90% gc time)\n"
     ]
    }
   ],
   "source": [
    "@time pos, vel, acc, masses, interactions, ptypes = CPUMTmd.random_data(3, 10, 2, 10);"
   ]
  },
  {
   "cell_type": "code",
   "execution_count": 16,
   "metadata": {},
   "outputs": [
    {
     "name": "stdout",
     "output_type": "stream",
     "text": [
      "  0.169503 seconds (571.03 k allocations: 27.820 MiB)\n"
     ]
    }
   ],
   "source": [
    "@time CPUMTmd.dynamics_sim!(3, 1, false, dt, pos, vel, acc, masses, interactions, ptypes, box_size, periodic, true);"
   ]
  },
  {
   "cell_type": "code",
   "execution_count": 17,
   "metadata": {},
   "outputs": [
    {
     "data": {
      "text/plain": [
       "BenchmarkTools.Trial: \n",
       "  memory estimate:  67.71 MiB\n",
       "  allocs estimate:  3277842\n",
       "  --------------\n",
       "  minimum time:     192.452 ms (0.00% GC)\n",
       "  median time:      219.649 ms (9.86% GC)\n",
       "  mean time:        228.406 ms (5.28% GC)\n",
       "  maximum time:     348.919 ms (6.58% GC)\n",
       "  --------------\n",
       "  samples:          22\n",
       "  evals/sample:     1"
      ]
     },
     "execution_count": 17,
     "metadata": {},
     "output_type": "execute_result"
    }
   ],
   "source": [
    "# CPU-MT test 100 particelle\n",
    "benchmark_CPUMT(100)"
   ]
  },
  {
   "cell_type": "code",
   "execution_count": 18,
   "metadata": {},
   "outputs": [
    {
     "data": {
      "text/plain": [
       "BenchmarkTools.Trial: \n",
       "  memory estimate:  257.34 MiB\n",
       "  allocs estimate:  15674967\n",
       "  --------------\n",
       "  minimum time:     1.338 s (5.65% GC)\n",
       "  median time:      1.505 s (5.04% GC)\n",
       "  mean time:        1.469 s (3.93% GC)\n",
       "  maximum time:     1.531 s (4.96% GC)\n",
       "  --------------\n",
       "  samples:          4\n",
       "  evals/sample:     1"
      ]
     },
     "execution_count": 18,
     "metadata": {},
     "output_type": "execute_result"
    }
   ],
   "source": [
    "# CPU-MT test 500 particelle\n",
    "benchmark_CPUMT(500)"
   ]
  },
  {
   "cell_type": "code",
   "execution_count": 19,
   "metadata": {},
   "outputs": [
    {
     "data": {
      "text/plain": [
       "BenchmarkTools.Trial: \n",
       "  memory estimate:  494.45 MiB\n",
       "  allocs estimate:  31176372\n",
       "  --------------\n",
       "  minimum time:     4.475 s (2.16% GC)\n",
       "  median time:      4.608 s (2.13% GC)\n",
       "  mean time:        4.608 s (2.13% GC)\n",
       "  maximum time:     4.741 s (2.10% GC)\n",
       "  --------------\n",
       "  samples:          2\n",
       "  evals/sample:     1"
      ]
     },
     "execution_count": 19,
     "metadata": {},
     "output_type": "execute_result"
    }
   ],
   "source": [
    "# CPU-MT test 1000 particelle\n",
    "benchmark_CPUMT(1000)"
   ]
  },
  {
   "cell_type": "markdown",
   "metadata": {},
   "source": [
    "### CUDA Version Benchmark"
   ]
  },
  {
   "cell_type": "code",
   "execution_count": 9,
   "metadata": {},
   "outputs": [
    {
     "name": "stderr",
     "output_type": "stream",
     "text": [
      "┌ Warning: Your CUDA installation does not provide the NVTX library, CUDAnative.NVTX will be unavailable\n",
      "└ @ CUDAnative C:\\Users\\enric\\.julia\\packages\\CUDAnative\\hfulr\\src\\CUDAnative.jl:153\n"
     ]
    },
    {
     "data": {
      "text/plain": [
       "Main.CUDAmd"
      ]
     },
     "execution_count": 9,
     "metadata": {},
     "output_type": "execute_result"
    }
   ],
   "source": [
    "include(\"src/CUDAmd.jl\")"
   ]
  },
  {
   "cell_type": "code",
   "execution_count": 10,
   "metadata": {},
   "outputs": [
    {
     "data": {
      "text/plain": [
       "benchmark_CUDA (generic function with 1 method)"
      ]
     },
     "execution_count": 10,
     "metadata": {},
     "output_type": "execute_result"
    }
   ],
   "source": [
    "function benchmark_CUDA(cuThreads, part_num)\n",
    "    # Genera stato iniziale del sistema sulla base dei valori originali\n",
    "    pos, vel, acc, masses, interactions, ptypes = CUDAmd.random_data(dim, part_num, num_part_types, box_size)\n",
    "    # Benchmark\n",
    "    @benchmark begin\n",
    "        CUDAmd.CuArrays.@sync begin\n",
    "            CUDAmd.dynamics_sim!($cuThreads, $nsteps, $sinterval, $false, $dt, $pos, $vel, $acc, $masses, \n",
    "                                 $interactions, $ptypes, $box_size, $periodic, $true)\n",
    "        end\n",
    "    end\n",
    "end"
   ]
  },
  {
   "cell_type": "code",
   "execution_count": 11,
   "metadata": {},
   "outputs": [],
   "source": [
    "## PRE-BENCHMARK ## (Compilazione JIT e Caching)"
   ]
  },
  {
   "cell_type": "code",
   "execution_count": 12,
   "metadata": {},
   "outputs": [
    {
     "name": "stdout",
     "output_type": "stream",
     "text": [
      "  0.981422 seconds (2.66 M allocations: 134.511 MiB, 2.96% gc time)\n"
     ]
    }
   ],
   "source": [
    "@time pos, vel, acc, masses, interactions, ptypes = CUDAmd.random_data(3, 10, 2, 10);"
   ]
  },
  {
   "cell_type": "code",
   "execution_count": 13,
   "metadata": {},
   "outputs": [
    {
     "name": "stdout",
     "output_type": "stream",
     "text": [
      "  5.642785 seconds (14.57 M allocations: 728.063 MiB, 3.76% gc time)\n"
     ]
    }
   ],
   "source": [
    "@time CUDAmd.dynamics_sim!(512, 3, 1, false, dt, pos, vel, acc, masses, interactions, ptypes, box_size, periodic, true);"
   ]
  },
  {
   "cell_type": "code",
   "execution_count": 14,
   "metadata": {},
   "outputs": [
    {
     "data": {
      "text/plain": [
       "BenchmarkTools.Trial: \n",
       "  memory estimate:  4.52 MiB\n",
       "  allocs estimate:  137026\n",
       "  --------------\n",
       "  minimum time:     202.495 ms (0.00% GC)\n",
       "  median time:      203.749 ms (0.00% GC)\n",
       "  mean time:        203.851 ms (0.11% GC)\n",
       "  maximum time:     205.990 ms (0.00% GC)\n",
       "  --------------\n",
       "  samples:          25\n",
       "  evals/sample:     1"
      ]
     },
     "execution_count": 14,
     "metadata": {},
     "output_type": "execute_result"
    }
   ],
   "source": [
    "# CUDA test 100 particelle\n",
    "benchmark_CUDA(512, 100)"
   ]
  },
  {
   "cell_type": "code",
   "execution_count": 15,
   "metadata": {},
   "outputs": [
    {
     "data": {
      "text/plain": [
       "BenchmarkTools.Trial: \n",
       "  memory estimate:  4.53 MiB\n",
       "  allocs estimate:  138026\n",
       "  --------------\n",
       "  minimum time:     1.292 s (0.00% GC)\n",
       "  median time:      1.315 s (0.00% GC)\n",
       "  mean time:        1.320 s (0.00% GC)\n",
       "  maximum time:     1.358 s (0.00% GC)\n",
       "  --------------\n",
       "  samples:          4\n",
       "  evals/sample:     1"
      ]
     },
     "execution_count": 15,
     "metadata": {},
     "output_type": "execute_result"
    }
   ],
   "source": [
    "# CUDA test 500 particelle\n",
    "benchmark_CUDA(512, 500)"
   ]
  },
  {
   "cell_type": "code",
   "execution_count": 16,
   "metadata": {},
   "outputs": [
    {
     "data": {
      "text/plain": [
       "BenchmarkTools.Trial: \n",
       "  memory estimate:  4.59 MiB\n",
       "  allocs estimate:  142026\n",
       "  --------------\n",
       "  minimum time:     2.798 s (0.00% GC)\n",
       "  median time:      2.813 s (0.00% GC)\n",
       "  mean time:        2.813 s (0.00% GC)\n",
       "  maximum time:     2.828 s (0.00% GC)\n",
       "  --------------\n",
       "  samples:          2\n",
       "  evals/sample:     1"
      ]
     },
     "execution_count": 16,
     "metadata": {},
     "output_type": "execute_result"
    }
   ],
   "source": [
    "# CUDA test 1000 particelle\n",
    "benchmark_CUDA(512, 1000)"
   ]
  },
  {
   "cell_type": "code",
   "execution_count": null,
   "metadata": {},
   "outputs": [],
   "source": []
  }
 ],
 "metadata": {
  "kernelspec": {
   "display_name": "Julia 1.3.1",
   "language": "julia",
   "name": "julia-1.3"
  },
  "language_info": {
   "file_extension": ".jl",
   "mimetype": "application/julia",
   "name": "julia",
   "version": "1.3.1"
  }
 },
 "nbformat": 4,
 "nbformat_minor": 2
}
